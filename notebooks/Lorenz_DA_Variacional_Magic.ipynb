{
  "nbformat": 4,
  "nbformat_minor": 0,
  "metadata": {
    "colab": {
      "provenance": [],
      "collapsed_sections": [
        "BbCnpun9zGJE",
        "Rnm9Hzi1M8jo",
        "yE8qioOfLZnD",
        "emSJfHDZFkll",
        "mIYDfN2UA5Xh",
        "OZ33hAOVBD-F",
        "JmNt8EVkMgPh",
        "CK6XUeR2Bwqk",
        "bGlX8KlFBn1k",
        "e1lUNJMbCG87",
        "X2bPqh7MEh2c",
        "apQJBpVywEew",
        "Ra2Mtwivi8tT",
        "es6EZnh3dGTX",
        "hQmjkPHndsfu",
        "tyV0i81Beewl",
        "h04VK0fsfmsw",
        "zmXG-9PBo8bZ",
        "b7xuHissuqpf",
        "n77ozPksyDII",
        "txQqnLrk3gOx"
      ],
      "include_colab_link": true
    },
    "kernelspec": {
      "name": "python3",
      "display_name": "Python 3"
    },
    "language_info": {
      "name": "python"
    }
  },
  "cells": [
    {
      "cell_type": "markdown",
      "metadata": {
        "id": "view-in-github",
        "colab_type": "text"
      },
      "source": [
        "<a href=\"https://colab.research.google.com/github/G-Assimila/pvlncc2025/blob/main/notebooks/Lorenz_DA_Variacional_Magic.ipynb\" target=\"_parent\"><img src=\"https://colab.research.google.com/assets/colab-badge.svg\" alt=\"Open In Colab\"/></a>"
      ]
    },
    {
      "cell_type": "markdown",
      "source": [
        "## **Program to perform 4D-Var data assimilation on the Lorenz equations**\n",
        "### (c) 2002  Data Assimilation Research Centre\n",
        "### Original Fortran program by Marek Wlasak Converted to Matlab by Amos Lawless"
      ],
      "metadata": {
        "id": "BbCnpun9zGJE"
      }
    },
    {
      "cell_type": "markdown",
      "source": [
        "# **Instala o Octave e o plugin para jupyter notebook**"
      ],
      "metadata": {
        "id": "Rnm9Hzi1M8jo"
      }
    },
    {
      "cell_type": "code",
      "execution_count": null,
      "metadata": {
        "id": "351NAv5Swr3S",
        "colab": {
          "base_uri": "https://localhost:8080/"
        },
        "outputId": "bfbc4e67-a7d6-4507-c58b-22ca47d96b1a"
      },
      "outputs": [
        {
          "output_type": "stream",
          "name": "stdout",
          "text": [
            "Reading package lists... Done\n",
            "Building dependency tree... Done\n",
            "Reading state information... Done\n",
            "The following additional packages will be installed:\n",
            "  aglfn default-jre-headless epstool fonts-droid-fallback fonts-freefont-otf fonts-noto-mono\n",
            "  fonts-urw-base35 ghostscript gnuplot-data gnuplot-qt gsfonts imagemagick-6-common info\n",
            "  install-info libamd2 libauthen-sasl-perl libbtf1 libcamd2 libccolamd2 libcholmod3 libclone-perl\n",
            "  libcolamd2 libcombblas1.16.0 libcxsparse3 libdata-dump-perl libemf1 libencode-locale-perl\n",
            "  libevdev2 libfftw3-double3 libfftw3-long3 libfftw3-mpi3 libfftw3-single3 libfile-listing-perl\n",
            "  libfltk-gl1.3 libfltk1.3 libfont-afm-perl libglpk40 libglu1-mesa libgraphicsmagick++-q16-12\n",
            "  libgraphicsmagick-q16-3 libgs9 libgs9-common libgudev-1.0-0 libhdf5-openmpi-103-1\n",
            "  libhtml-form-perl libhtml-format-perl libhtml-parser-perl libhtml-tagset-perl libhtml-tree-perl\n",
            "  libhttp-cookies-perl libhttp-daemon-perl libhttp-date-perl libhttp-message-perl\n",
            "  libhttp-negotiate-perl libhypre-2.22.1 libidn12 libijs-0.35 libinput-bin libinput10\n",
            "  libio-html-perl libio-socket-ssl-perl libjbig2dec0 libklu1 liblqr-1-0 liblua5.4-0\n",
            "  liblwp-mediatypes-perl liblwp-protocol-https-perl libmagick++-6.q16-8 libmagickcore-6.q16-6\n",
            "  libmagickwand-6.q16-6 libmailtools-perl libmd4c0 libmetis5 libmtdev1 libnet-http-perl\n",
            "  libnet-smtp-ssl-perl libnet-ssleay-perl libnotify4 libpetsc-real3.15 libplot2c2 libportaudio2\n",
            "  libpstoedit0c2a libptscotch-6.1 libqrupdate1 libqscintilla2-qt5-15 libqscintilla2-qt5-l10n\n",
            "  libqt5core5a libqt5dbus5 libqt5gui5 libqt5help5 libqt5network5 libqt5printsupport5 libqt5sql5\n",
            "  libqt5sql5-sqlite libqt5svg5 libqt5widgets5 libqt5xml5 libsuitesparseconfig5 libsundials-ida4\n",
            "  libsundials-nvecparallel-petsc4 libsundials-nvecserial4 libsundials-sunlinsol2\n",
            "  libsundials-sunmatrix2 libsuperlu-dist7 libtext-unidecode-perl libtrilinos-amesos-13.2\n",
            "  libtrilinos-aztecoo-13.2 libtrilinos-epetra-13.2 libtrilinos-epetraext-13.2\n",
            "  libtrilinos-galeri-13.2 libtrilinos-ifpack-13.2 libtrilinos-kokkos-13.2 libtrilinos-ml-13.2\n",
            "  libtrilinos-teuchos-13.2 libtrilinos-trilinosss-13.2 libtrilinos-triutils-13.2\n",
            "  libtrilinos-zoltan-13.2 libtry-tiny-perl libumfpack5 liburi-perl libwacom-bin libwacom-common\n",
            "  libwacom9 libwmflite-0.2-7 libwww-perl libwww-robotrules-perl libwxbase3.0-0v5\n",
            "  libwxgtk3.0-gtk3-0v5 libxcb-icccm4 libxcb-image0 libxcb-keysyms1 libxcb-render-util0 libxcb-util1\n",
            "  libxcb-xinerama0 libxcb-xinput0 libxcb-xkb1 libxkbcommon-x11-0 libxml-libxml-perl\n",
            "  libxml-namespacesupport-perl libxml-parser-perl libxml-sax-base-perl libxml-sax-expat-perl\n",
            "  libxml-sax-perl libzip4 netbase octave-common octave-doc perl-openssl-defaults poppler-data\n",
            "  pstoedit qt5-gtk-platformtheme qttranslations5-l10n tex-common texinfo\n",
            "Suggested packages:\n",
            "  default-jre fonts-noto fonts-texgyre ghostscript-x gnuplot-doc libdigest-hmac-perl libgssapi-perl\n",
            "  libfftw3-bin libfftw3-dev libfftw3-mpi-dev libiodbc2-dev graphicsmagick-dbg libcrypt-ssleay-perl\n",
            "  libmagickcore-6.q16-6-extra gnome-shell | notification-daemon libqscintilla2-doc\n",
            "  qt5-image-formats-plugins qtwayland5 libsub-name-perl libbusiness-isbn-perl libauthen-ntlm-perl\n",
            "  libxml-sax-expatxs-perl octave-dev www-browser | pdf-viewer poppler-utils fonts-japanese-mincho\n",
            "  | fonts-ipafont-mincho fonts-japanese-gothic | fonts-ipafont-gothic fonts-arphic-ukai\n",
            "  fonts-arphic-uming fonts-nanum xfig | ivtools-bin | tgif | transfig debhelper texlive-base\n",
            "  texlive-latex-base texlive-plain-generic texlive-fonts-recommended\n",
            "The following NEW packages will be installed:\n",
            "  aglfn default-jre-headless epstool fonts-droid-fallback fonts-freefont-otf fonts-noto-mono\n",
            "  fonts-urw-base35 ghostscript gnuplot-data gnuplot-qt gsfonts imagemagick-6-common info\n",
            "  install-info libamd2 libauthen-sasl-perl libbtf1 libcamd2 libccolamd2 libcholmod3 libclone-perl\n",
            "  libcolamd2 libcombblas1.16.0 libcxsparse3 libdata-dump-perl libemf1 libencode-locale-perl\n",
            "  libevdev2 libfftw3-double3 libfftw3-long3 libfftw3-mpi3 libfftw3-single3 libfile-listing-perl\n",
            "  libfltk-gl1.3 libfltk1.3 libfont-afm-perl libglpk40 libglu1-mesa libgraphicsmagick++-q16-12\n",
            "  libgraphicsmagick-q16-3 libgs9 libgs9-common libgudev-1.0-0 libhdf5-openmpi-103-1\n",
            "  libhtml-form-perl libhtml-format-perl libhtml-parser-perl libhtml-tagset-perl libhtml-tree-perl\n",
            "  libhttp-cookies-perl libhttp-daemon-perl libhttp-date-perl libhttp-message-perl\n",
            "  libhttp-negotiate-perl libhypre-2.22.1 libidn12 libijs-0.35 libinput-bin libinput10\n",
            "  libio-html-perl libio-socket-ssl-perl libjbig2dec0 libklu1 liblqr-1-0 liblua5.4-0\n",
            "  liblwp-mediatypes-perl liblwp-protocol-https-perl libmagick++-6.q16-8 libmagickcore-6.q16-6\n",
            "  libmagickwand-6.q16-6 libmailtools-perl libmd4c0 libmetis5 libmtdev1 libnet-http-perl\n",
            "  libnet-smtp-ssl-perl libnet-ssleay-perl libnotify4 libpetsc-real3.15 libplot2c2 libportaudio2\n",
            "  libpstoedit0c2a libptscotch-6.1 libqrupdate1 libqscintilla2-qt5-15 libqscintilla2-qt5-l10n\n",
            "  libqt5core5a libqt5dbus5 libqt5gui5 libqt5help5 libqt5network5 libqt5printsupport5 libqt5sql5\n",
            "  libqt5sql5-sqlite libqt5svg5 libqt5widgets5 libqt5xml5 libsuitesparseconfig5 libsundials-ida4\n",
            "  libsundials-nvecparallel-petsc4 libsundials-nvecserial4 libsundials-sunlinsol2\n",
            "  libsundials-sunmatrix2 libsuperlu-dist7 libtext-unidecode-perl libtrilinos-amesos-13.2\n",
            "  libtrilinos-aztecoo-13.2 libtrilinos-epetra-13.2 libtrilinos-epetraext-13.2\n",
            "  libtrilinos-galeri-13.2 libtrilinos-ifpack-13.2 libtrilinos-kokkos-13.2 libtrilinos-ml-13.2\n",
            "  libtrilinos-teuchos-13.2 libtrilinos-trilinosss-13.2 libtrilinos-triutils-13.2\n",
            "  libtrilinos-zoltan-13.2 libtry-tiny-perl libumfpack5 liburi-perl libwacom-bin libwacom-common\n",
            "  libwacom9 libwmflite-0.2-7 libwww-perl libwww-robotrules-perl libwxbase3.0-0v5\n",
            "  libwxgtk3.0-gtk3-0v5 libxcb-icccm4 libxcb-image0 libxcb-keysyms1 libxcb-render-util0 libxcb-util1\n",
            "  libxcb-xinerama0 libxcb-xinput0 libxcb-xkb1 libxkbcommon-x11-0 libxml-libxml-perl\n",
            "  libxml-namespacesupport-perl libxml-parser-perl libxml-sax-base-perl libxml-sax-expat-perl\n",
            "  libxml-sax-perl libzip4 netbase octave octave-common octave-doc perl-openssl-defaults\n",
            "  poppler-data pstoedit qt5-gtk-platformtheme qttranslations5-l10n tex-common texinfo\n",
            "0 upgraded, 155 newly installed, 0 to remove and 20 not upgraded.\n",
            "Need to get 95.2 MB of archives.\n",
            "After this operation, 334 MB of additional disk space will be used.\n",
            "Get:1 http://archive.ubuntu.com/ubuntu jammy/main amd64 install-info amd64 6.8-4build1 [88.1 kB]\n",
            "Get:2 http://archive.ubuntu.com/ubuntu jammy/main amd64 fonts-droid-fallback all 1:6.0.1r16-1.1build1 [1,805 kB]\n",
            "Get:3 http://archive.ubuntu.com/ubuntu jammy/main amd64 libfftw3-double3 amd64 3.3.8-2ubuntu8 [770 kB]\n",
            "Get:4 http://archive.ubuntu.com/ubuntu jammy/universe amd64 liblqr-1-0 amd64 0.4.2-2.1 [27.7 kB]\n",
            "Get:5 http://archive.ubuntu.com/ubuntu jammy-updates/universe amd64 imagemagick-6-common all 8:6.9.11.60+dfsg-1.3ubuntu0.22.04.5 [64.3 kB]\n",
            "Get:6 http://archive.ubuntu.com/ubuntu jammy-updates/universe amd64 libmagickcore-6.q16-6 amd64 8:6.9.11.60+dfsg-1.3ubuntu0.22.04.5 [1,795 kB]\n",
            "Get:7 http://archive.ubuntu.com/ubuntu jammy-updates/universe amd64 libmagickwand-6.q16-6 amd64 8:6.9.11.60+dfsg-1.3ubuntu0.22.04.5 [328 kB]\n",
            "Get:8 http://archive.ubuntu.com/ubuntu jammy-updates/universe amd64 libqt5core5a amd64 5.15.3+dfsg-2ubuntu0.2 [2,006 kB]\n",
            "Get:9 http://archive.ubuntu.com/ubuntu jammy/main amd64 libevdev2 amd64 1.12.1+dfsg-1 [39.5 kB]\n",
            "Get:10 http://archive.ubuntu.com/ubuntu jammy/main amd64 libmtdev1 amd64 1.1.6-1build4 [14.5 kB]\n",
            "Get:11 http://archive.ubuntu.com/ubuntu jammy/main amd64 libgudev-1.0-0 amd64 1:237-2build1 [16.3 kB]\n",
            "Get:12 http://archive.ubuntu.com/ubuntu jammy/main amd64 libwacom-common all 2.2.0-1 [54.3 kB]\n",
            "Get:13 http://archive.ubuntu.com/ubuntu jammy/main amd64 libwacom9 amd64 2.2.0-1 [22.0 kB]\n",
            "Get:14 http://archive.ubuntu.com/ubuntu jammy-updates/main amd64 libinput-bin amd64 1.20.0-1ubuntu0.3 [19.9 kB]\n",
            "Get:15 http://archive.ubuntu.com/ubuntu jammy-updates/main amd64 libinput10 amd64 1.20.0-1ubuntu0.3 [131 kB]\n",
            "Get:16 http://archive.ubuntu.com/ubuntu jammy/universe amd64 libmd4c0 amd64 0.4.8-1 [42.0 kB]\n",
            "Get:17 http://archive.ubuntu.com/ubuntu jammy-updates/universe amd64 libqt5dbus5 amd64 5.15.3+dfsg-2ubuntu0.2 [222 kB]\n",
            "Get:18 http://archive.ubuntu.com/ubuntu jammy-updates/universe amd64 libqt5network5 amd64 5.15.3+dfsg-2ubuntu0.2 [731 kB]\n",
            "Get:19 http://archive.ubuntu.com/ubuntu jammy/main amd64 libxcb-icccm4 amd64 0.4.1-1.1build2 [11.5 kB]\n",
            "Get:20 http://archive.ubuntu.com/ubuntu jammy/main amd64 libxcb-util1 amd64 0.4.0-1build2 [11.4 kB]\n",
            "Get:21 http://archive.ubuntu.com/ubuntu jammy/main amd64 libxcb-image0 amd64 0.4.0-2 [11.5 kB]\n",
            "Get:22 http://archive.ubuntu.com/ubuntu jammy/main amd64 libxcb-keysyms1 amd64 0.4.0-1build3 [8,746 B]\n",
            "Get:23 http://archive.ubuntu.com/ubuntu jammy/main amd64 libxcb-render-util0 amd64 0.3.9-1build3 [10.3 kB]\n",
            "Get:24 http://archive.ubuntu.com/ubuntu jammy/main amd64 libxcb-xinerama0 amd64 1.14-3ubuntu3 [5,414 B]\n",
            "Get:25 http://archive.ubuntu.com/ubuntu jammy/main amd64 libxcb-xinput0 amd64 1.14-3ubuntu3 [34.3 kB]\n",
            "Get:26 http://archive.ubuntu.com/ubuntu jammy/main amd64 libxcb-xkb1 amd64 1.14-3ubuntu3 [32.8 kB]\n",
            "Get:27 http://archive.ubuntu.com/ubuntu jammy/main amd64 libxkbcommon-x11-0 amd64 1.4.0-1 [14.4 kB]\n",
            "Get:28 http://archive.ubuntu.com/ubuntu jammy-updates/universe amd64 libqt5gui5 amd64 5.15.3+dfsg-2ubuntu0.2 [3,722 kB]\n",
            "Get:29 http://archive.ubuntu.com/ubuntu jammy-updates/universe amd64 libqt5widgets5 amd64 5.15.3+dfsg-2ubuntu0.2 [2,561 kB]\n",
            "Get:30 http://archive.ubuntu.com/ubuntu jammy/universe amd64 libqt5svg5 amd64 5.15.3-1 [149 kB]\n",
            "Get:31 http://archive.ubuntu.com/ubuntu jammy/main amd64 poppler-data all 0.4.11-1 [2,171 kB]\n",
            "Get:32 http://archive.ubuntu.com/ubuntu jammy/universe amd64 tex-common all 6.17 [33.7 kB]\n",
            "Get:33 http://archive.ubuntu.com/ubuntu jammy/main amd64 netbase all 6.3 [12.9 kB]\n",
            "Get:34 http://archive.ubuntu.com/ubuntu jammy/main amd64 info amd64 6.8-4build1 [213 kB]\n",
            "Get:35 http://archive.ubuntu.com/ubuntu jammy/main amd64 default-jre-headless amd64 2:1.11-72build2 [3,042 B]\n",
            "Get:36 http://archive.ubuntu.com/ubuntu jammy/main amd64 fonts-urw-base35 all 20200910-1 [6,367 kB]\n",
            "Get:37 http://archive.ubuntu.com/ubuntu jammy-updates/main amd64 libgs9-common all 9.55.0~dfsg1-0ubuntu5.10 [752 kB]\n",
            "Get:38 http://archive.ubuntu.com/ubuntu jammy-updates/main amd64 libidn12 amd64 1.38-4ubuntu1 [60.0 kB]\n",
            "Get:39 http://archive.ubuntu.com/ubuntu jammy/main amd64 libijs-0.35 amd64 0.35-15build2 [16.5 kB]\n",
            "Get:40 http://archive.ubuntu.com/ubuntu jammy/main amd64 libjbig2dec0 amd64 0.19-3build2 [64.7 kB]\n",
            "Get:41 http://archive.ubuntu.com/ubuntu jammy-updates/main amd64 libgs9 amd64 9.55.0~dfsg1-0ubuntu5.10 [5,031 kB]\n",
            "Get:42 http://archive.ubuntu.com/ubuntu jammy-updates/main amd64 ghostscript amd64 9.55.0~dfsg1-0ubuntu5.10 [49.4 kB]\n",
            "Get:43 http://archive.ubuntu.com/ubuntu jammy/universe amd64 epstool amd64 3.09-3 [110 kB]\n",
            "Get:44 http://archive.ubuntu.com/ubuntu jammy/universe amd64 fonts-freefont-otf all 20120503-10build1 [3,054 kB]\n",
            "Get:45 http://archive.ubuntu.com/ubuntu jammy/main amd64 fonts-noto-mono all 20201225-1build1 [397 kB]\n",
            "Get:46 http://archive.ubuntu.com/ubuntu jammy/universe amd64 aglfn all 1.7+git20191031.4036a9c-2 [30.6 kB]\n",
            "Get:47 http://archive.ubuntu.com/ubuntu jammy/universe amd64 gnuplot-data all 5.4.2+dfsg2-2 [75.3 kB]\n",
            "Get:48 http://archive.ubuntu.com/ubuntu jammy/universe amd64 liblua5.4-0 amd64 5.4.4-1 [152 kB]\n",
            "Get:49 http://archive.ubuntu.com/ubuntu jammy-updates/universe amd64 libqt5printsupport5 amd64 5.15.3+dfsg-2ubuntu0.2 [214 kB]\n",
            "Get:50 http://archive.ubuntu.com/ubuntu jammy/universe amd64 libwxbase3.0-0v5 amd64 3.0.5.1+dfsg-4 [881 kB]\n",
            "Get:51 http://archive.ubuntu.com/ubuntu jammy-updates/main amd64 libnotify4 amd64 0.7.9-3ubuntu5.22.04.1 [20.3 kB]\n",
            "Get:52 http://archive.ubuntu.com/ubuntu jammy/universe amd64 libwxgtk3.0-gtk3-0v5 amd64 3.0.5.1+dfsg-4 [4,368 kB]\n",
            "Get:53 http://archive.ubuntu.com/ubuntu jammy/universe amd64 gnuplot-qt amd64 5.4.2+dfsg2-2 [1,156 kB]\n",
            "Get:54 http://archive.ubuntu.com/ubuntu jammy/universe amd64 gsfonts all 1:8.11+urwcyr1.0.7~pre44-4.5 [3,120 kB]\n",
            "Get:55 http://archive.ubuntu.com/ubuntu jammy/main amd64 libsuitesparseconfig5 amd64 1:5.10.1+dfsg-4build1 [10.4 kB]\n",
            "Get:56 http://archive.ubuntu.com/ubuntu jammy/universe amd64 libamd2 amd64 1:5.10.1+dfsg-4build1 [21.6 kB]\n",
            "Get:57 http://archive.ubuntu.com/ubuntu jammy/universe amd64 libbtf1 amd64 1:5.10.1+dfsg-4build1 [12.1 kB]\n",
            "Get:58 http://archive.ubuntu.com/ubuntu jammy/universe amd64 libcamd2 amd64 1:5.10.1+dfsg-4build1 [23.3 kB]\n",
            "Get:59 http://archive.ubuntu.com/ubuntu jammy/universe amd64 libccolamd2 amd64 1:5.10.1+dfsg-4build1 [25.2 kB]\n",
            "Get:60 http://archive.ubuntu.com/ubuntu jammy/main amd64 libcolamd2 amd64 1:5.10.1+dfsg-4build1 [18.0 kB]\n",
            "Get:61 http://archive.ubuntu.com/ubuntu jammy/universe amd64 libmetis5 amd64 5.1.0.dfsg-7build2 [181 kB]\n",
            "Get:62 http://archive.ubuntu.com/ubuntu jammy/universe amd64 libcholmod3 amd64 1:5.10.1+dfsg-4build1 [346 kB]\n",
            "Get:63 http://archive.ubuntu.com/ubuntu jammy/main amd64 libclone-perl amd64 0.45-1build3 [11.0 kB]\n",
            "Get:64 http://archive.ubuntu.com/ubuntu jammy/universe amd64 libcombblas1.16.0 amd64 1.6.2-8 [271 kB]\n",
            "Get:65 http://archive.ubuntu.com/ubuntu jammy/universe amd64 libcxsparse3 amd64 1:5.10.1+dfsg-4build1 [70.8 kB]\n",
            "Get:66 http://archive.ubuntu.com/ubuntu jammy/main amd64 libdata-dump-perl all 1.25-1 [25.9 kB]\n",
            "Get:67 http://archive.ubuntu.com/ubuntu jammy/universe amd64 libemf1 amd64 1.0.13-3 [62.2 kB]\n",
            "Get:68 http://archive.ubuntu.com/ubuntu jammy/main amd64 libencode-locale-perl all 1.05-1.1 [11.8 kB]\n",
            "Get:69 http://archive.ubuntu.com/ubuntu jammy/main amd64 libfftw3-long3 amd64 3.3.8-2ubuntu8 [335 kB]\n",
            "Get:70 http://archive.ubuntu.com/ubuntu jammy/main amd64 libfftw3-single3 amd64 3.3.8-2ubuntu8 [800 kB]\n",
            "Get:71 http://archive.ubuntu.com/ubuntu jammy/universe amd64 libfftw3-mpi3 amd64 3.3.8-2ubuntu8 [48.9 kB]\n",
            "Get:72 http://archive.ubuntu.com/ubuntu jammy/main amd64 libhttp-date-perl all 6.05-1 [9,920 B]\n",
            "Get:73 http://archive.ubuntu.com/ubuntu jammy/main amd64 libfile-listing-perl all 6.14-1 [11.2 kB]\n",
            "Get:74 http://archive.ubuntu.com/ubuntu jammy/universe amd64 libfltk1.3 amd64 1.3.8-4 [628 kB]\n",
            "Get:75 http://archive.ubuntu.com/ubuntu jammy/universe amd64 libfltk-gl1.3 amd64 1.3.8-4 [45.9 kB]\n",
            "Get:76 http://archive.ubuntu.com/ubuntu jammy/main amd64 libfont-afm-perl all 1.20-3 [13.6 kB]\n",
            "Get:77 http://archive.ubuntu.com/ubuntu jammy/universe amd64 libglpk40 amd64 5.0-1 [361 kB]\n",
            "Get:78 http://archive.ubuntu.com/ubuntu jammy/main amd64 libwmflite-0.2-7 amd64 0.2.12-5ubuntu1 [68.9 kB]\n",
            "Get:79 http://archive.ubuntu.com/ubuntu jammy-updates/universe amd64 libgraphicsmagick-q16-3 amd64 1.4+really1.3.38-1ubuntu0.1 [1,238 kB]\n",
            "Get:80 http://archive.ubuntu.com/ubuntu jammy-updates/universe amd64 libgraphicsmagick++-q16-12 amd64 1.4+really1.3.38-1ubuntu0.1 [122 kB]\n",
            "Get:81 http://archive.ubuntu.com/ubuntu jammy/universe amd64 libhdf5-openmpi-103-1 amd64 1.10.7+repack-4ubuntu2 [1,344 kB]\n",
            "Get:82 http://archive.ubuntu.com/ubuntu jammy/main amd64 libhtml-tagset-perl all 3.20-4 [12.5 kB]\n",
            "Get:83 http://archive.ubuntu.com/ubuntu jammy/main amd64 liburi-perl all 5.10-1 [78.8 kB]\n",
            "Get:84 http://archive.ubuntu.com/ubuntu jammy/main amd64 libhtml-parser-perl amd64 3.76-1build2 [88.4 kB]\n",
            "Get:85 http://archive.ubuntu.com/ubuntu jammy/main amd64 libio-html-perl all 1.004-2 [15.4 kB]\n",
            "Get:86 http://archive.ubuntu.com/ubuntu jammy/main amd64 liblwp-mediatypes-perl all 6.04-1 [19.5 kB]\n",
            "Get:87 http://archive.ubuntu.com/ubuntu jammy/main amd64 libhttp-message-perl all 6.36-1 [76.8 kB]\n",
            "Get:88 http://archive.ubuntu.com/ubuntu jammy/main amd64 libhtml-form-perl all 6.07-1 [22.2 kB]\n",
            "Get:89 http://archive.ubuntu.com/ubuntu jammy/main amd64 libhtml-tree-perl all 5.07-2 [200 kB]\n",
            "Get:90 http://archive.ubuntu.com/ubuntu jammy/main amd64 libhtml-format-perl all 2.12-1.1 [41.3 kB]\n",
            "Get:91 http://archive.ubuntu.com/ubuntu jammy/main amd64 libhttp-cookies-perl all 6.10-1 [18.4 kB]\n",
            "Get:92 http://archive.ubuntu.com/ubuntu jammy-updates/main amd64 libhttp-daemon-perl all 6.13-1ubuntu0.1 [22.9 kB]\n",
            "Get:93 http://archive.ubuntu.com/ubuntu jammy/main amd64 libhttp-negotiate-perl all 6.01-1 [12.5 kB]\n",
            "Get:94 http://archive.ubuntu.com/ubuntu jammy/universe amd64 libptscotch-6.1 amd64 6.1.3-1 [702 kB]\n",
            "Get:95 http://archive.ubuntu.com/ubuntu jammy/universe amd64 libsuperlu-dist7 amd64 7.2.0+dfsg1-2 [545 kB]\n",
            "Get:96 http://archive.ubuntu.com/ubuntu jammy/universe amd64 libhypre-2.22.1 amd64 2.22.1-7 [1,612 kB]\n",
            "Get:97 http://archive.ubuntu.com/ubuntu jammy/main amd64 perl-openssl-defaults amd64 5build2 [7,542 B]\n",
            "Get:98 http://archive.ubuntu.com/ubuntu jammy/main amd64 libnet-ssleay-perl amd64 1.92-1build2 [327 kB]\n",
            "Get:99 http://archive.ubuntu.com/ubuntu jammy/main amd64 libio-socket-ssl-perl all 2.074-2 [192 kB]\n",
            "Get:100 http://archive.ubuntu.com/ubuntu jammy/universe amd64 libklu1 amd64 1:5.10.1+dfsg-4build1 [77.6 kB]\n",
            "Get:101 http://archive.ubuntu.com/ubuntu jammy/main amd64 libnet-http-perl all 6.22-1 [23.2 kB]\n",
            "Get:102 http://archive.ubuntu.com/ubuntu jammy/main amd64 libtry-tiny-perl all 0.31-1 [21.8 kB]\n",
            "Get:103 http://archive.ubuntu.com/ubuntu jammy/main amd64 libwww-robotrules-perl all 6.02-1 [12.6 kB]\n",
            "Get:104 http://archive.ubuntu.com/ubuntu jammy/main amd64 libwww-perl all 6.61-1 [141 kB]\n",
            "Get:105 http://archive.ubuntu.com/ubuntu jammy/main amd64 liblwp-protocol-https-perl all 6.10-1 [10.9 kB]\n",
            "Get:106 http://archive.ubuntu.com/ubuntu jammy-updates/universe amd64 libmagick++-6.q16-8 amd64 8:6.9.11.60+dfsg-1.3ubuntu0.22.04.5 [157 kB]\n",
            "Get:107 http://archive.ubuntu.com/ubuntu jammy/main amd64 libnet-smtp-ssl-perl all 1.04-1 [5,948 B]\n",
            "Get:108 http://archive.ubuntu.com/ubuntu jammy/main amd64 libmailtools-perl all 2.21-1 [80.7 kB]\n",
            "Get:109 http://archive.ubuntu.com/ubuntu jammy/universe amd64 libtrilinos-kokkos-13.2 amd64 13.2.0-1ubuntu1 [107 kB]\n",
            "Get:110 http://archive.ubuntu.com/ubuntu jammy/universe amd64 libtrilinos-teuchos-13.2 amd64 13.2.0-1ubuntu1 [1,193 kB]\n",
            "Get:111 http://archive.ubuntu.com/ubuntu jammy/universe amd64 libtrilinos-epetra-13.2 amd64 13.2.0-1ubuntu1 [458 kB]\n",
            "Get:112 http://archive.ubuntu.com/ubuntu jammy/universe amd64 libtrilinos-triutils-13.2 amd64 13.2.0-1ubuntu1 [130 kB]\n",
            "Get:113 http://archive.ubuntu.com/ubuntu jammy/universe amd64 libtrilinos-epetraext-13.2 amd64 13.2.0-1ubuntu1 [448 kB]\n",
            "Get:114 http://archive.ubuntu.com/ubuntu jammy/universe amd64 libtrilinos-trilinosss-13.2 amd64 13.2.0-1ubuntu1 [89.9 kB]\n",
            "Get:115 http://archive.ubuntu.com/ubuntu jammy/universe amd64 libtrilinos-amesos-13.2 amd64 13.2.0-1ubuntu1 [109 kB]\n",
            "Get:116 http://archive.ubuntu.com/ubuntu jammy/universe amd64 libtrilinos-aztecoo-13.2 amd64 13.2.0-1ubuntu1 [219 kB]\n",
            "Get:117 http://archive.ubuntu.com/ubuntu jammy/universe amd64 libtrilinos-galeri-13.2 amd64 13.2.0-1ubuntu1 [91.2 kB]\n",
            "Get:118 http://archive.ubuntu.com/ubuntu jammy/universe amd64 libtrilinos-ifpack-13.2 amd64 13.2.0-1ubuntu1 [443 kB]\n",
            "Get:119 http://archive.ubuntu.com/ubuntu jammy/universe amd64 libtrilinos-zoltan-13.2 amd64 13.2.0-1ubuntu1 [403 kB]\n",
            "Get:120 http://archive.ubuntu.com/ubuntu jammy/universe amd64 libtrilinos-ml-13.2 amd64 13.2.0-1ubuntu1 [992 kB]\n",
            "Get:121 http://archive.ubuntu.com/ubuntu jammy/universe amd64 libumfpack5 amd64 1:5.10.1+dfsg-4build1 [250 kB]\n",
            "Get:122 http://archive.ubuntu.com/ubuntu jammy/universe amd64 libpetsc-real3.15 amd64 3.15.5+dfsg1-1build2 [6,095 kB]\n",
            "Get:123 http://archive.ubuntu.com/ubuntu jammy/universe amd64 libplot2c2 amd64 2.6-11 [506 kB]\n",
            "Get:124 http://archive.ubuntu.com/ubuntu jammy/universe amd64 libportaudio2 amd64 19.6.0-1.1 [65.3 kB]\n",
            "Get:125 http://archive.ubuntu.com/ubuntu jammy/universe amd64 libzip4 amd64 1.7.3-1ubuntu2 [55.0 kB]\n",
            "Get:126 http://archive.ubuntu.com/ubuntu jammy/universe amd64 libpstoedit0c2a amd64 3.78-1 [373 kB]\n",
            "Get:127 http://archive.ubuntu.com/ubuntu jammy/universe amd64 libqrupdate1 amd64 1.1.2-4 [36.8 kB]\n",
            "Get:128 http://archive.ubuntu.com/ubuntu jammy/universe amd64 libqscintilla2-qt5-l10n all 2.11.6+dfsg-4 [54.8 kB]\n",
            "Get:129 http://archive.ubuntu.com/ubuntu jammy/universe amd64 libqscintilla2-qt5-15 amd64 2.11.6+dfsg-4 [1,217 kB]\n",
            "Get:130 http://archive.ubuntu.com/ubuntu jammy-updates/universe amd64 libqt5sql5 amd64 5.15.3+dfsg-2ubuntu0.2 [123 kB]\n",
            "Get:131 http://archive.ubuntu.com/ubuntu jammy/universe amd64 libqt5help5 amd64 5.15.3-1 [162 kB]\n",
            "Get:132 http://archive.ubuntu.com/ubuntu jammy-updates/universe amd64 libqt5sql5-sqlite amd64 5.15.3+dfsg-2ubuntu0.2 [53.0 kB]\n",
            "Get:133 http://archive.ubuntu.com/ubuntu jammy-updates/universe amd64 libqt5xml5 amd64 5.15.3+dfsg-2ubuntu0.2 [124 kB]\n",
            "Get:134 http://archive.ubuntu.com/ubuntu jammy/universe amd64 libsundials-ida4 amd64 5.8.0+dfsg-1build1 [80.1 kB]\n",
            "Get:135 http://archive.ubuntu.com/ubuntu jammy/universe amd64 libsundials-nvecparallel-petsc4 amd64 5.8.0+dfsg-1build1 [31.1 kB]\n",
            "Get:136 http://archive.ubuntu.com/ubuntu jammy/universe amd64 libsundials-nvecserial4 amd64 5.8.0+dfsg-1build1 [40.9 kB]\n",
            "Get:137 http://archive.ubuntu.com/ubuntu jammy/universe amd64 libsundials-sunmatrix2 amd64 5.8.0+dfsg-1build1 [42.9 kB]\n",
            "Get:138 http://archive.ubuntu.com/ubuntu jammy/universe amd64 libsundials-sunlinsol2 amd64 5.8.0+dfsg-1build1 [93.7 kB]\n",
            "Get:139 http://archive.ubuntu.com/ubuntu jammy/universe amd64 libtext-unidecode-perl all 1.30-1 [99.0 kB]\n",
            "Get:140 http://archive.ubuntu.com/ubuntu jammy/main amd64 libwacom-bin amd64 2.2.0-1 [13.6 kB]\n",
            "Get:141 http://archive.ubuntu.com/ubuntu jammy/main amd64 libxml-namespacesupport-perl all 1.12-1.1 [13.2 kB]\n",
            "Get:142 http://archive.ubuntu.com/ubuntu jammy/main amd64 libxml-sax-base-perl all 1.09-1.1 [19.0 kB]\n",
            "Get:143 http://archive.ubuntu.com/ubuntu jammy/main amd64 libxml-sax-perl all 1.02+dfsg-3 [57.0 kB]\n",
            "Get:144 http://archive.ubuntu.com/ubuntu jammy/main amd64 libxml-libxml-perl amd64 2.0207+dfsg+really+2.0134-1 [325 kB]\n",
            "Get:145 http://archive.ubuntu.com/ubuntu jammy/main amd64 libxml-parser-perl amd64 2.46-3build1 [212 kB]\n",
            "Get:146 http://archive.ubuntu.com/ubuntu jammy/main amd64 libxml-sax-expat-perl all 0.51-1 [10.5 kB]\n",
            "Get:147 http://archive.ubuntu.com/ubuntu jammy/universe amd64 pstoedit amd64 3.78-1 [405 kB]\n",
            "Get:148 http://archive.ubuntu.com/ubuntu jammy-updates/universe amd64 qt5-gtk-platformtheme amd64 5.15.3+dfsg-2ubuntu0.2 [130 kB]\n",
            "Get:149 http://archive.ubuntu.com/ubuntu jammy/universe amd64 qttranslations5-l10n all 5.15.3-1 [1,983 kB]\n",
            "Get:150 http://archive.ubuntu.com/ubuntu jammy/universe amd64 texinfo amd64 6.8-4build1 [1,423 kB]\n",
            "Get:151 http://archive.ubuntu.com/ubuntu jammy/main amd64 libauthen-sasl-perl all 2.1600-1.1 [43.1 kB]\n",
            "Get:152 http://archive.ubuntu.com/ubuntu jammy/main amd64 libglu1-mesa amd64 9.0.2-1 [145 kB]\n",
            "Get:153 http://archive.ubuntu.com/ubuntu jammy/universe amd64 octave-common all 6.4.0-2 [5,457 kB]\n",
            "Get:154 http://archive.ubuntu.com/ubuntu jammy/universe amd64 octave amd64 6.4.0-2 [9,330 kB]\n",
            "Get:155 http://archive.ubuntu.com/ubuntu jammy/universe amd64 octave-doc all 6.4.0-2 [7,665 kB]\n",
            "Fetched 95.2 MB in 12s (7,768 kB/s)\n",
            "Extracting templates from packages: 100%\n",
            "Selecting previously unselected package install-info.\n",
            "(Reading database ... 124926 files and directories currently installed.)\n",
            "Preparing to unpack .../install-info_6.8-4build1_amd64.deb ...\n",
            "Unpacking install-info (6.8-4build1) ...\n",
            "Setting up install-info (6.8-4build1) ...\n",
            "Selecting previously unselected package fonts-droid-fallback.\n",
            "(Reading database ... 124939 files and directories currently installed.)\n",
            "Preparing to unpack .../000-fonts-droid-fallback_1%3a6.0.1r16-1.1build1_all.deb ...\n",
            "Unpacking fonts-droid-fallback (1:6.0.1r16-1.1build1) ...\n",
            "Selecting previously unselected package libfftw3-double3:amd64.\n",
            "Preparing to unpack .../001-libfftw3-double3_3.3.8-2ubuntu8_amd64.deb ...\n",
            "Unpacking libfftw3-double3:amd64 (3.3.8-2ubuntu8) ...\n",
            "Selecting previously unselected package liblqr-1-0:amd64.\n",
            "Preparing to unpack .../002-liblqr-1-0_0.4.2-2.1_amd64.deb ...\n",
            "Unpacking liblqr-1-0:amd64 (0.4.2-2.1) ...\n",
            "Selecting previously unselected package imagemagick-6-common.\n",
            "Preparing to unpack .../003-imagemagick-6-common_8%3a6.9.11.60+dfsg-1.3ubuntu0.22.04.5_all.deb ...\n",
            "Unpacking imagemagick-6-common (8:6.9.11.60+dfsg-1.3ubuntu0.22.04.5) ...\n",
            "Selecting previously unselected package libmagickcore-6.q16-6:amd64.\n",
            "Preparing to unpack .../004-libmagickcore-6.q16-6_8%3a6.9.11.60+dfsg-1.3ubuntu0.22.04.5_amd64.deb ...\n",
            "Unpacking libmagickcore-6.q16-6:amd64 (8:6.9.11.60+dfsg-1.3ubuntu0.22.04.5) ...\n",
            "Selecting previously unselected package libmagickwand-6.q16-6:amd64.\n",
            "Preparing to unpack .../005-libmagickwand-6.q16-6_8%3a6.9.11.60+dfsg-1.3ubuntu0.22.04.5_amd64.deb ...\n",
            "Unpacking libmagickwand-6.q16-6:amd64 (8:6.9.11.60+dfsg-1.3ubuntu0.22.04.5) ...\n",
            "Selecting previously unselected package libqt5core5a:amd64.\n",
            "Preparing to unpack .../006-libqt5core5a_5.15.3+dfsg-2ubuntu0.2_amd64.deb ...\n",
            "Unpacking libqt5core5a:amd64 (5.15.3+dfsg-2ubuntu0.2) ...\n",
            "Selecting previously unselected package libevdev2:amd64.\n",
            "Preparing to unpack .../007-libevdev2_1.12.1+dfsg-1_amd64.deb ...\n",
            "Unpacking libevdev2:amd64 (1.12.1+dfsg-1) ...\n",
            "Selecting previously unselected package libmtdev1:amd64.\n",
            "Preparing to unpack .../008-libmtdev1_1.1.6-1build4_amd64.deb ...\n",
            "Unpacking libmtdev1:amd64 (1.1.6-1build4) ...\n",
            "Selecting previously unselected package libgudev-1.0-0:amd64.\n",
            "Preparing to unpack .../009-libgudev-1.0-0_1%3a237-2build1_amd64.deb ...\n",
            "Unpacking libgudev-1.0-0:amd64 (1:237-2build1) ...\n",
            "Selecting previously unselected package libwacom-common.\n",
            "Preparing to unpack .../010-libwacom-common_2.2.0-1_all.deb ...\n",
            "Unpacking libwacom-common (2.2.0-1) ...\n",
            "Selecting previously unselected package libwacom9:amd64.\n",
            "Preparing to unpack .../011-libwacom9_2.2.0-1_amd64.deb ...\n",
            "Unpacking libwacom9:amd64 (2.2.0-1) ...\n",
            "Selecting previously unselected package libinput-bin.\n",
            "Preparing to unpack .../012-libinput-bin_1.20.0-1ubuntu0.3_amd64.deb ...\n",
            "Unpacking libinput-bin (1.20.0-1ubuntu0.3) ...\n",
            "Selecting previously unselected package libinput10:amd64.\n",
            "Preparing to unpack .../013-libinput10_1.20.0-1ubuntu0.3_amd64.deb ...\n",
            "Unpacking libinput10:amd64 (1.20.0-1ubuntu0.3) ...\n",
            "Selecting previously unselected package libmd4c0:amd64.\n",
            "Preparing to unpack .../014-libmd4c0_0.4.8-1_amd64.deb ...\n",
            "Unpacking libmd4c0:amd64 (0.4.8-1) ...\n",
            "Selecting previously unselected package libqt5dbus5:amd64.\n",
            "Preparing to unpack .../015-libqt5dbus5_5.15.3+dfsg-2ubuntu0.2_amd64.deb ...\n",
            "Unpacking libqt5dbus5:amd64 (5.15.3+dfsg-2ubuntu0.2) ...\n",
            "Selecting previously unselected package libqt5network5:amd64.\n",
            "Preparing to unpack .../016-libqt5network5_5.15.3+dfsg-2ubuntu0.2_amd64.deb ...\n",
            "Unpacking libqt5network5:amd64 (5.15.3+dfsg-2ubuntu0.2) ...\n",
            "Selecting previously unselected package libxcb-icccm4:amd64.\n",
            "Preparing to unpack .../017-libxcb-icccm4_0.4.1-1.1build2_amd64.deb ...\n",
            "Unpacking libxcb-icccm4:amd64 (0.4.1-1.1build2) ...\n",
            "Selecting previously unselected package libxcb-util1:amd64.\n",
            "Preparing to unpack .../018-libxcb-util1_0.4.0-1build2_amd64.deb ...\n",
            "Unpacking libxcb-util1:amd64 (0.4.0-1build2) ...\n",
            "Selecting previously unselected package libxcb-image0:amd64.\n",
            "Preparing to unpack .../019-libxcb-image0_0.4.0-2_amd64.deb ...\n",
            "Unpacking libxcb-image0:amd64 (0.4.0-2) ...\n",
            "Selecting previously unselected package libxcb-keysyms1:amd64.\n",
            "Preparing to unpack .../020-libxcb-keysyms1_0.4.0-1build3_amd64.deb ...\n",
            "Unpacking libxcb-keysyms1:amd64 (0.4.0-1build3) ...\n",
            "Selecting previously unselected package libxcb-render-util0:amd64.\n",
            "Preparing to unpack .../021-libxcb-render-util0_0.3.9-1build3_amd64.deb ...\n",
            "Unpacking libxcb-render-util0:amd64 (0.3.9-1build3) ...\n",
            "Selecting previously unselected package libxcb-xinerama0:amd64.\n",
            "Preparing to unpack .../022-libxcb-xinerama0_1.14-3ubuntu3_amd64.deb ...\n",
            "Unpacking libxcb-xinerama0:amd64 (1.14-3ubuntu3) ...\n",
            "Selecting previously unselected package libxcb-xinput0:amd64.\n",
            "Preparing to unpack .../023-libxcb-xinput0_1.14-3ubuntu3_amd64.deb ...\n",
            "Unpacking libxcb-xinput0:amd64 (1.14-3ubuntu3) ...\n",
            "Selecting previously unselected package libxcb-xkb1:amd64.\n",
            "Preparing to unpack .../024-libxcb-xkb1_1.14-3ubuntu3_amd64.deb ...\n",
            "Unpacking libxcb-xkb1:amd64 (1.14-3ubuntu3) ...\n",
            "Selecting previously unselected package libxkbcommon-x11-0:amd64.\n",
            "Preparing to unpack .../025-libxkbcommon-x11-0_1.4.0-1_amd64.deb ...\n",
            "Unpacking libxkbcommon-x11-0:amd64 (1.4.0-1) ...\n",
            "Selecting previously unselected package libqt5gui5:amd64.\n",
            "Preparing to unpack .../026-libqt5gui5_5.15.3+dfsg-2ubuntu0.2_amd64.deb ...\n",
            "Unpacking libqt5gui5:amd64 (5.15.3+dfsg-2ubuntu0.2) ...\n",
            "Selecting previously unselected package libqt5widgets5:amd64.\n",
            "Preparing to unpack .../027-libqt5widgets5_5.15.3+dfsg-2ubuntu0.2_amd64.deb ...\n",
            "Unpacking libqt5widgets5:amd64 (5.15.3+dfsg-2ubuntu0.2) ...\n",
            "Selecting previously unselected package libqt5svg5:amd64.\n",
            "Preparing to unpack .../028-libqt5svg5_5.15.3-1_amd64.deb ...\n",
            "Unpacking libqt5svg5:amd64 (5.15.3-1) ...\n",
            "Selecting previously unselected package poppler-data.\n",
            "Preparing to unpack .../029-poppler-data_0.4.11-1_all.deb ...\n",
            "Unpacking poppler-data (0.4.11-1) ...\n",
            "Selecting previously unselected package tex-common.\n",
            "Preparing to unpack .../030-tex-common_6.17_all.deb ...\n",
            "Unpacking tex-common (6.17) ...\n",
            "Selecting previously unselected package netbase.\n",
            "Preparing to unpack .../031-netbase_6.3_all.deb ...\n",
            "Unpacking netbase (6.3) ...\n",
            "Selecting previously unselected package info.\n",
            "Preparing to unpack .../032-info_6.8-4build1_amd64.deb ...\n",
            "Unpacking info (6.8-4build1) ...\n",
            "Selecting previously unselected package default-jre-headless.\n",
            "Preparing to unpack .../033-default-jre-headless_2%3a1.11-72build2_amd64.deb ...\n",
            "Unpacking default-jre-headless (2:1.11-72build2) ...\n",
            "Selecting previously unselected package fonts-urw-base35.\n",
            "Preparing to unpack .../034-fonts-urw-base35_20200910-1_all.deb ...\n",
            "Unpacking fonts-urw-base35 (20200910-1) ...\n",
            "Selecting previously unselected package libgs9-common.\n",
            "Preparing to unpack .../035-libgs9-common_9.55.0~dfsg1-0ubuntu5.10_all.deb ...\n",
            "Unpacking libgs9-common (9.55.0~dfsg1-0ubuntu5.10) ...\n",
            "Selecting previously unselected package libidn12:amd64.\n",
            "Preparing to unpack .../036-libidn12_1.38-4ubuntu1_amd64.deb ...\n",
            "Unpacking libidn12:amd64 (1.38-4ubuntu1) ...\n",
            "Selecting previously unselected package libijs-0.35:amd64.\n",
            "Preparing to unpack .../037-libijs-0.35_0.35-15build2_amd64.deb ...\n",
            "Unpacking libijs-0.35:amd64 (0.35-15build2) ...\n",
            "Selecting previously unselected package libjbig2dec0:amd64.\n",
            "Preparing to unpack .../038-libjbig2dec0_0.19-3build2_amd64.deb ...\n",
            "Unpacking libjbig2dec0:amd64 (0.19-3build2) ...\n",
            "Selecting previously unselected package libgs9:amd64.\n",
            "Preparing to unpack .../039-libgs9_9.55.0~dfsg1-0ubuntu5.10_amd64.deb ...\n",
            "Unpacking libgs9:amd64 (9.55.0~dfsg1-0ubuntu5.10) ...\n",
            "Selecting previously unselected package ghostscript.\n",
            "Preparing to unpack .../040-ghostscript_9.55.0~dfsg1-0ubuntu5.10_amd64.deb ...\n",
            "Unpacking ghostscript (9.55.0~dfsg1-0ubuntu5.10) ...\n",
            "Selecting previously unselected package epstool.\n",
            "Preparing to unpack .../041-epstool_3.09-3_amd64.deb ...\n",
            "Unpacking epstool (3.09-3) ...\n",
            "Selecting previously unselected package fonts-freefont-otf.\n",
            "Preparing to unpack .../042-fonts-freefont-otf_20120503-10build1_all.deb ...\n",
            "Unpacking fonts-freefont-otf (20120503-10build1) ...\n",
            "Selecting previously unselected package fonts-noto-mono.\n",
            "Preparing to unpack .../043-fonts-noto-mono_20201225-1build1_all.deb ...\n",
            "Unpacking fonts-noto-mono (20201225-1build1) ...\n",
            "Selecting previously unselected package aglfn.\n",
            "Preparing to unpack .../044-aglfn_1.7+git20191031.4036a9c-2_all.deb ...\n",
            "Unpacking aglfn (1.7+git20191031.4036a9c-2) ...\n",
            "Selecting previously unselected package gnuplot-data.\n",
            "Preparing to unpack .../045-gnuplot-data_5.4.2+dfsg2-2_all.deb ...\n",
            "Unpacking gnuplot-data (5.4.2+dfsg2-2) ...\n",
            "Selecting previously unselected package liblua5.4-0:amd64.\n",
            "Preparing to unpack .../046-liblua5.4-0_5.4.4-1_amd64.deb ...\n",
            "Unpacking liblua5.4-0:amd64 (5.4.4-1) ...\n",
            "Selecting previously unselected package libqt5printsupport5:amd64.\n",
            "Preparing to unpack .../047-libqt5printsupport5_5.15.3+dfsg-2ubuntu0.2_amd64.deb ...\n",
            "Unpacking libqt5printsupport5:amd64 (5.15.3+dfsg-2ubuntu0.2) ...\n",
            "Selecting previously unselected package libwxbase3.0-0v5:amd64.\n",
            "Preparing to unpack .../048-libwxbase3.0-0v5_3.0.5.1+dfsg-4_amd64.deb ...\n",
            "Unpacking libwxbase3.0-0v5:amd64 (3.0.5.1+dfsg-4) ...\n",
            "Selecting previously unselected package libnotify4:amd64.\n",
            "Preparing to unpack .../049-libnotify4_0.7.9-3ubuntu5.22.04.1_amd64.deb ...\n",
            "Unpacking libnotify4:amd64 (0.7.9-3ubuntu5.22.04.1) ...\n",
            "Selecting previously unselected package libwxgtk3.0-gtk3-0v5:amd64.\n",
            "Preparing to unpack .../050-libwxgtk3.0-gtk3-0v5_3.0.5.1+dfsg-4_amd64.deb ...\n",
            "Unpacking libwxgtk3.0-gtk3-0v5:amd64 (3.0.5.1+dfsg-4) ...\n",
            "Selecting previously unselected package gnuplot-qt.\n",
            "Preparing to unpack .../051-gnuplot-qt_5.4.2+dfsg2-2_amd64.deb ...\n",
            "Unpacking gnuplot-qt (5.4.2+dfsg2-2) ...\n",
            "Selecting previously unselected package gsfonts.\n",
            "Preparing to unpack .../052-gsfonts_1%3a8.11+urwcyr1.0.7~pre44-4.5_all.deb ...\n",
            "Unpacking gsfonts (1:8.11+urwcyr1.0.7~pre44-4.5) ...\n",
            "Selecting previously unselected package libsuitesparseconfig5:amd64.\n",
            "Preparing to unpack .../053-libsuitesparseconfig5_1%3a5.10.1+dfsg-4build1_amd64.deb ...\n",
            "Unpacking libsuitesparseconfig5:amd64 (1:5.10.1+dfsg-4build1) ...\n",
            "Selecting previously unselected package libamd2:amd64.\n",
            "Preparing to unpack .../054-libamd2_1%3a5.10.1+dfsg-4build1_amd64.deb ...\n",
            "Unpacking libamd2:amd64 (1:5.10.1+dfsg-4build1) ...\n",
            "Selecting previously unselected package libbtf1:amd64.\n",
            "Preparing to unpack .../055-libbtf1_1%3a5.10.1+dfsg-4build1_amd64.deb ...\n",
            "Unpacking libbtf1:amd64 (1:5.10.1+dfsg-4build1) ...\n",
            "Selecting previously unselected package libcamd2:amd64.\n",
            "Preparing to unpack .../056-libcamd2_1%3a5.10.1+dfsg-4build1_amd64.deb ...\n",
            "Unpacking libcamd2:amd64 (1:5.10.1+dfsg-4build1) ...\n",
            "Selecting previously unselected package libccolamd2:amd64.\n",
            "Preparing to unpack .../057-libccolamd2_1%3a5.10.1+dfsg-4build1_amd64.deb ...\n",
            "Unpacking libccolamd2:amd64 (1:5.10.1+dfsg-4build1) ...\n",
            "Selecting previously unselected package libcolamd2:amd64.\n",
            "Preparing to unpack .../058-libcolamd2_1%3a5.10.1+dfsg-4build1_amd64.deb ...\n",
            "Unpacking libcolamd2:amd64 (1:5.10.1+dfsg-4build1) ...\n",
            "Selecting previously unselected package libmetis5:amd64.\n",
            "Preparing to unpack .../059-libmetis5_5.1.0.dfsg-7build2_amd64.deb ...\n",
            "Unpacking libmetis5:amd64 (5.1.0.dfsg-7build2) ...\n",
            "Selecting previously unselected package libcholmod3:amd64.\n",
            "Preparing to unpack .../060-libcholmod3_1%3a5.10.1+dfsg-4build1_amd64.deb ...\n",
            "Unpacking libcholmod3:amd64 (1:5.10.1+dfsg-4build1) ...\n",
            "Selecting previously unselected package libclone-perl.\n",
            "Preparing to unpack .../061-libclone-perl_0.45-1build3_amd64.deb ...\n",
            "Unpacking libclone-perl (0.45-1build3) ...\n",
            "Selecting previously unselected package libcombblas1.16.0:amd64.\n",
            "Preparing to unpack .../062-libcombblas1.16.0_1.6.2-8_amd64.deb ...\n",
            "Unpacking libcombblas1.16.0:amd64 (1.6.2-8) ...\n",
            "Selecting previously unselected package libcxsparse3:amd64.\n",
            "Preparing to unpack .../063-libcxsparse3_1%3a5.10.1+dfsg-4build1_amd64.deb ...\n",
            "Unpacking libcxsparse3:amd64 (1:5.10.1+dfsg-4build1) ...\n",
            "Selecting previously unselected package libdata-dump-perl.\n",
            "Preparing to unpack .../064-libdata-dump-perl_1.25-1_all.deb ...\n",
            "Unpacking libdata-dump-perl (1.25-1) ...\n",
            "Selecting previously unselected package libemf1:amd64.\n",
            "Preparing to unpack .../065-libemf1_1.0.13-3_amd64.deb ...\n",
            "Unpacking libemf1:amd64 (1.0.13-3) ...\n",
            "Selecting previously unselected package libencode-locale-perl.\n",
            "Preparing to unpack .../066-libencode-locale-perl_1.05-1.1_all.deb ...\n",
            "Unpacking libencode-locale-perl (1.05-1.1) ...\n",
            "Selecting previously unselected package libfftw3-long3:amd64.\n",
            "Preparing to unpack .../067-libfftw3-long3_3.3.8-2ubuntu8_amd64.deb ...\n",
            "Unpacking libfftw3-long3:amd64 (3.3.8-2ubuntu8) ...\n",
            "Selecting previously unselected package libfftw3-single3:amd64.\n",
            "Preparing to unpack .../068-libfftw3-single3_3.3.8-2ubuntu8_amd64.deb ...\n",
            "Unpacking libfftw3-single3:amd64 (3.3.8-2ubuntu8) ...\n",
            "Selecting previously unselected package libfftw3-mpi3:amd64.\n",
            "Preparing to unpack .../069-libfftw3-mpi3_3.3.8-2ubuntu8_amd64.deb ...\n",
            "Unpacking libfftw3-mpi3:amd64 (3.3.8-2ubuntu8) ...\n",
            "Selecting previously unselected package libhttp-date-perl.\n",
            "Preparing to unpack .../070-libhttp-date-perl_6.05-1_all.deb ...\n",
            "Unpacking libhttp-date-perl (6.05-1) ...\n",
            "Selecting previously unselected package libfile-listing-perl.\n",
            "Preparing to unpack .../071-libfile-listing-perl_6.14-1_all.deb ...\n",
            "Unpacking libfile-listing-perl (6.14-1) ...\n",
            "Selecting previously unselected package libfltk1.3:amd64.\n",
            "Preparing to unpack .../072-libfltk1.3_1.3.8-4_amd64.deb ...\n",
            "Unpacking libfltk1.3:amd64 (1.3.8-4) ...\n",
            "Selecting previously unselected package libfltk-gl1.3:amd64.\n",
            "Preparing to unpack .../073-libfltk-gl1.3_1.3.8-4_amd64.deb ...\n",
            "Unpacking libfltk-gl1.3:amd64 (1.3.8-4) ...\n",
            "Selecting previously unselected package libfont-afm-perl.\n",
            "Preparing to unpack .../074-libfont-afm-perl_1.20-3_all.deb ...\n",
            "Unpacking libfont-afm-perl (1.20-3) ...\n",
            "Selecting previously unselected package libglpk40:amd64.\n",
            "Preparing to unpack .../075-libglpk40_5.0-1_amd64.deb ...\n",
            "Unpacking libglpk40:amd64 (5.0-1) ...\n",
            "Selecting previously unselected package libwmflite-0.2-7:amd64.\n",
            "Preparing to unpack .../076-libwmflite-0.2-7_0.2.12-5ubuntu1_amd64.deb ...\n",
            "Unpacking libwmflite-0.2-7:amd64 (0.2.12-5ubuntu1) ...\n",
            "Selecting previously unselected package libgraphicsmagick-q16-3.\n",
            "Preparing to unpack .../077-libgraphicsmagick-q16-3_1.4+really1.3.38-1ubuntu0.1_amd64.deb ...\n",
            "Unpacking libgraphicsmagick-q16-3 (1.4+really1.3.38-1ubuntu0.1) ...\n",
            "Selecting previously unselected package libgraphicsmagick++-q16-12.\n",
            "Preparing to unpack .../078-libgraphicsmagick++-q16-12_1.4+really1.3.38-1ubuntu0.1_amd64.deb ...\n",
            "Unpacking libgraphicsmagick++-q16-12 (1.4+really1.3.38-1ubuntu0.1) ...\n",
            "Selecting previously unselected package libhdf5-openmpi-103-1:amd64.\n",
            "Preparing to unpack .../079-libhdf5-openmpi-103-1_1.10.7+repack-4ubuntu2_amd64.deb ...\n",
            "Unpacking libhdf5-openmpi-103-1:amd64 (1.10.7+repack-4ubuntu2) ...\n",
            "Selecting previously unselected package libhtml-tagset-perl.\n",
            "Preparing to unpack .../080-libhtml-tagset-perl_3.20-4_all.deb ...\n",
            "Unpacking libhtml-tagset-perl (3.20-4) ...\n",
            "Selecting previously unselected package liburi-perl.\n",
            "Preparing to unpack .../081-liburi-perl_5.10-1_all.deb ...\n",
            "Unpacking liburi-perl (5.10-1) ...\n",
            "Selecting previously unselected package libhtml-parser-perl:amd64.\n",
            "Preparing to unpack .../082-libhtml-parser-perl_3.76-1build2_amd64.deb ...\n",
            "Unpacking libhtml-parser-perl:amd64 (3.76-1build2) ...\n",
            "Selecting previously unselected package libio-html-perl.\n",
            "Preparing to unpack .../083-libio-html-perl_1.004-2_all.deb ...\n",
            "Unpacking libio-html-perl (1.004-2) ...\n",
            "Selecting previously unselected package liblwp-mediatypes-perl.\n",
            "Preparing to unpack .../084-liblwp-mediatypes-perl_6.04-1_all.deb ...\n",
            "Unpacking liblwp-mediatypes-perl (6.04-1) ...\n",
            "Selecting previously unselected package libhttp-message-perl.\n",
            "Preparing to unpack .../085-libhttp-message-perl_6.36-1_all.deb ...\n",
            "Unpacking libhttp-message-perl (6.36-1) ...\n",
            "Selecting previously unselected package libhtml-form-perl.\n",
            "Preparing to unpack .../086-libhtml-form-perl_6.07-1_all.deb ...\n",
            "Unpacking libhtml-form-perl (6.07-1) ...\n",
            "Selecting previously unselected package libhtml-tree-perl.\n",
            "Preparing to unpack .../087-libhtml-tree-perl_5.07-2_all.deb ...\n",
            "Unpacking libhtml-tree-perl (5.07-2) ...\n",
            "Selecting previously unselected package libhtml-format-perl.\n",
            "Preparing to unpack .../088-libhtml-format-perl_2.12-1.1_all.deb ...\n",
            "Unpacking libhtml-format-perl (2.12-1.1) ...\n",
            "Selecting previously unselected package libhttp-cookies-perl.\n",
            "Preparing to unpack .../089-libhttp-cookies-perl_6.10-1_all.deb ...\n",
            "Unpacking libhttp-cookies-perl (6.10-1) ...\n",
            "Selecting previously unselected package libhttp-daemon-perl.\n",
            "Preparing to unpack .../090-libhttp-daemon-perl_6.13-1ubuntu0.1_all.deb ...\n",
            "Unpacking libhttp-daemon-perl (6.13-1ubuntu0.1) ...\n",
            "Selecting previously unselected package libhttp-negotiate-perl.\n",
            "Preparing to unpack .../091-libhttp-negotiate-perl_6.01-1_all.deb ...\n",
            "Unpacking libhttp-negotiate-perl (6.01-1) ...\n",
            "Selecting previously unselected package libptscotch-6.1:amd64.\n",
            "Preparing to unpack .../092-libptscotch-6.1_6.1.3-1_amd64.deb ...\n",
            "Unpacking libptscotch-6.1:amd64 (6.1.3-1) ...\n",
            "Selecting previously unselected package libsuperlu-dist7:amd64.\n",
            "Preparing to unpack .../093-libsuperlu-dist7_7.2.0+dfsg1-2_amd64.deb ...\n",
            "Unpacking libsuperlu-dist7:amd64 (7.2.0+dfsg1-2) ...\n",
            "Selecting previously unselected package libhypre-2.22.1:amd64.\n",
            "Preparing to unpack .../094-libhypre-2.22.1_2.22.1-7_amd64.deb ...\n",
            "Unpacking libhypre-2.22.1:amd64 (2.22.1-7) ...\n",
            "Selecting previously unselected package perl-openssl-defaults:amd64.\n",
            "Preparing to unpack .../095-perl-openssl-defaults_5build2_amd64.deb ...\n",
            "Unpacking perl-openssl-defaults:amd64 (5build2) ...\n",
            "Selecting previously unselected package libnet-ssleay-perl:amd64.\n",
            "Preparing to unpack .../096-libnet-ssleay-perl_1.92-1build2_amd64.deb ...\n",
            "Unpacking libnet-ssleay-perl:amd64 (1.92-1build2) ...\n",
            "Selecting previously unselected package libio-socket-ssl-perl.\n",
            "Preparing to unpack .../097-libio-socket-ssl-perl_2.074-2_all.deb ...\n",
            "Unpacking libio-socket-ssl-perl (2.074-2) ...\n",
            "Selecting previously unselected package libklu1:amd64.\n",
            "Preparing to unpack .../098-libklu1_1%3a5.10.1+dfsg-4build1_amd64.deb ...\n",
            "Unpacking libklu1:amd64 (1:5.10.1+dfsg-4build1) ...\n",
            "Selecting previously unselected package libnet-http-perl.\n",
            "Preparing to unpack .../099-libnet-http-perl_6.22-1_all.deb ...\n",
            "Unpacking libnet-http-perl (6.22-1) ...\n",
            "Selecting previously unselected package libtry-tiny-perl.\n",
            "Preparing to unpack .../100-libtry-tiny-perl_0.31-1_all.deb ...\n",
            "Unpacking libtry-tiny-perl (0.31-1) ...\n",
            "Selecting previously unselected package libwww-robotrules-perl.\n",
            "Preparing to unpack .../101-libwww-robotrules-perl_6.02-1_all.deb ...\n",
            "Unpacking libwww-robotrules-perl (6.02-1) ...\n",
            "Selecting previously unselected package libwww-perl.\n",
            "Preparing to unpack .../102-libwww-perl_6.61-1_all.deb ...\n",
            "Unpacking libwww-perl (6.61-1) ...\n",
            "Selecting previously unselected package liblwp-protocol-https-perl.\n",
            "Preparing to unpack .../103-liblwp-protocol-https-perl_6.10-1_all.deb ...\n",
            "Unpacking liblwp-protocol-https-perl (6.10-1) ...\n",
            "Selecting previously unselected package libmagick++-6.q16-8:amd64.\n",
            "Preparing to unpack .../104-libmagick++-6.q16-8_8%3a6.9.11.60+dfsg-1.3ubuntu0.22.04.5_amd64.deb ...\n",
            "Unpacking libmagick++-6.q16-8:amd64 (8:6.9.11.60+dfsg-1.3ubuntu0.22.04.5) ...\n",
            "Selecting previously unselected package libnet-smtp-ssl-perl.\n",
            "Preparing to unpack .../105-libnet-smtp-ssl-perl_1.04-1_all.deb ...\n",
            "Unpacking libnet-smtp-ssl-perl (1.04-1) ...\n",
            "Selecting previously unselected package libmailtools-perl.\n",
            "Preparing to unpack .../106-libmailtools-perl_2.21-1_all.deb ...\n",
            "Unpacking libmailtools-perl (2.21-1) ...\n",
            "Selecting previously unselected package libtrilinos-kokkos-13.2:amd64.\n",
            "Preparing to unpack .../107-libtrilinos-kokkos-13.2_13.2.0-1ubuntu1_amd64.deb ...\n",
            "Unpacking libtrilinos-kokkos-13.2:amd64 (13.2.0-1ubuntu1) ...\n",
            "Selecting previously unselected package libtrilinos-teuchos-13.2:amd64.\n",
            "Preparing to unpack .../108-libtrilinos-teuchos-13.2_13.2.0-1ubuntu1_amd64.deb ...\n",
            "Unpacking libtrilinos-teuchos-13.2:amd64 (13.2.0-1ubuntu1) ...\n",
            "Selecting previously unselected package libtrilinos-epetra-13.2:amd64.\n",
            "Preparing to unpack .../109-libtrilinos-epetra-13.2_13.2.0-1ubuntu1_amd64.deb ...\n",
            "Unpacking libtrilinos-epetra-13.2:amd64 (13.2.0-1ubuntu1) ...\n",
            "Selecting previously unselected package libtrilinos-triutils-13.2:amd64.\n",
            "Preparing to unpack .../110-libtrilinos-triutils-13.2_13.2.0-1ubuntu1_amd64.deb ...\n",
            "Unpacking libtrilinos-triutils-13.2:amd64 (13.2.0-1ubuntu1) ...\n",
            "Selecting previously unselected package libtrilinos-epetraext-13.2:amd64.\n",
            "Preparing to unpack .../111-libtrilinos-epetraext-13.2_13.2.0-1ubuntu1_amd64.deb ...\n",
            "Unpacking libtrilinos-epetraext-13.2:amd64 (13.2.0-1ubuntu1) ...\n",
            "Selecting previously unselected package libtrilinos-trilinosss-13.2:amd64.\n",
            "Preparing to unpack .../112-libtrilinos-trilinosss-13.2_13.2.0-1ubuntu1_amd64.deb ...\n",
            "Unpacking libtrilinos-trilinosss-13.2:amd64 (13.2.0-1ubuntu1) ...\n",
            "Selecting previously unselected package libtrilinos-amesos-13.2:amd64.\n",
            "Preparing to unpack .../113-libtrilinos-amesos-13.2_13.2.0-1ubuntu1_amd64.deb ...\n",
            "Unpacking libtrilinos-amesos-13.2:amd64 (13.2.0-1ubuntu1) ...\n",
            "Selecting previously unselected package libtrilinos-aztecoo-13.2:amd64.\n",
            "Preparing to unpack .../114-libtrilinos-aztecoo-13.2_13.2.0-1ubuntu1_amd64.deb ...\n",
            "Unpacking libtrilinos-aztecoo-13.2:amd64 (13.2.0-1ubuntu1) ...\n",
            "Selecting previously unselected package libtrilinos-galeri-13.2:amd64.\n",
            "Preparing to unpack .../115-libtrilinos-galeri-13.2_13.2.0-1ubuntu1_amd64.deb ...\n",
            "Unpacking libtrilinos-galeri-13.2:amd64 (13.2.0-1ubuntu1) ...\n",
            "Selecting previously unselected package libtrilinos-ifpack-13.2:amd64.\n",
            "Preparing to unpack .../116-libtrilinos-ifpack-13.2_13.2.0-1ubuntu1_amd64.deb ...\n",
            "Unpacking libtrilinos-ifpack-13.2:amd64 (13.2.0-1ubuntu1) ...\n",
            "Selecting previously unselected package libtrilinos-zoltan-13.2:amd64.\n",
            "Preparing to unpack .../117-libtrilinos-zoltan-13.2_13.2.0-1ubuntu1_amd64.deb ...\n",
            "Unpacking libtrilinos-zoltan-13.2:amd64 (13.2.0-1ubuntu1) ...\n",
            "Selecting previously unselected package libtrilinos-ml-13.2:amd64.\n",
            "Preparing to unpack .../118-libtrilinos-ml-13.2_13.2.0-1ubuntu1_amd64.deb ...\n",
            "Unpacking libtrilinos-ml-13.2:amd64 (13.2.0-1ubuntu1) ...\n",
            "Selecting previously unselected package libumfpack5:amd64.\n",
            "Preparing to unpack .../119-libumfpack5_1%3a5.10.1+dfsg-4build1_amd64.deb ...\n",
            "Unpacking libumfpack5:amd64 (1:5.10.1+dfsg-4build1) ...\n",
            "Selecting previously unselected package libpetsc-real3.15:amd64.\n",
            "Preparing to unpack .../120-libpetsc-real3.15_3.15.5+dfsg1-1build2_amd64.deb ...\n",
            "Unpacking libpetsc-real3.15:amd64 (3.15.5+dfsg1-1build2) ...\n",
            "Selecting previously unselected package libplot2c2:amd64.\n",
            "Preparing to unpack .../121-libplot2c2_2.6-11_amd64.deb ...\n",
            "Unpacking libplot2c2:amd64 (2.6-11) ...\n",
            "Selecting previously unselected package libportaudio2:amd64.\n",
            "Preparing to unpack .../122-libportaudio2_19.6.0-1.1_amd64.deb ...\n",
            "Unpacking libportaudio2:amd64 (19.6.0-1.1) ...\n",
            "Selecting previously unselected package libzip4:amd64.\n",
            "Preparing to unpack .../123-libzip4_1.7.3-1ubuntu2_amd64.deb ...\n",
            "Unpacking libzip4:amd64 (1.7.3-1ubuntu2) ...\n",
            "Selecting previously unselected package libpstoedit0c2a:amd64.\n",
            "Preparing to unpack .../124-libpstoedit0c2a_3.78-1_amd64.deb ...\n",
            "Unpacking libpstoedit0c2a:amd64 (3.78-1) ...\n",
            "Selecting previously unselected package libqrupdate1:amd64.\n",
            "Preparing to unpack .../125-libqrupdate1_1.1.2-4_amd64.deb ...\n",
            "Unpacking libqrupdate1:amd64 (1.1.2-4) ...\n",
            "Selecting previously unselected package libqscintilla2-qt5-l10n.\n",
            "Preparing to unpack .../126-libqscintilla2-qt5-l10n_2.11.6+dfsg-4_all.deb ...\n",
            "Unpacking libqscintilla2-qt5-l10n (2.11.6+dfsg-4) ...\n",
            "Selecting previously unselected package libqscintilla2-qt5-15.\n",
            "Preparing to unpack .../127-libqscintilla2-qt5-15_2.11.6+dfsg-4_amd64.deb ...\n",
            "Unpacking libqscintilla2-qt5-15 (2.11.6+dfsg-4) ...\n",
            "Selecting previously unselected package libqt5sql5:amd64.\n",
            "Preparing to unpack .../128-libqt5sql5_5.15.3+dfsg-2ubuntu0.2_amd64.deb ...\n",
            "Unpacking libqt5sql5:amd64 (5.15.3+dfsg-2ubuntu0.2) ...\n",
            "Selecting previously unselected package libqt5help5:amd64.\n",
            "Preparing to unpack .../129-libqt5help5_5.15.3-1_amd64.deb ...\n",
            "Unpacking libqt5help5:amd64 (5.15.3-1) ...\n",
            "Selecting previously unselected package libqt5sql5-sqlite:amd64.\n",
            "Preparing to unpack .../130-libqt5sql5-sqlite_5.15.3+dfsg-2ubuntu0.2_amd64.deb ...\n",
            "Unpacking libqt5sql5-sqlite:amd64 (5.15.3+dfsg-2ubuntu0.2) ...\n",
            "Selecting previously unselected package libqt5xml5:amd64.\n",
            "Preparing to unpack .../131-libqt5xml5_5.15.3+dfsg-2ubuntu0.2_amd64.deb ...\n",
            "Unpacking libqt5xml5:amd64 (5.15.3+dfsg-2ubuntu0.2) ...\n",
            "Selecting previously unselected package libsundials-ida4:amd64.\n",
            "Preparing to unpack .../132-libsundials-ida4_5.8.0+dfsg-1build1_amd64.deb ...\n",
            "Unpacking libsundials-ida4:amd64 (5.8.0+dfsg-1build1) ...\n",
            "Selecting previously unselected package libsundials-nvecparallel-petsc4:amd64.\n",
            "Preparing to unpack .../133-libsundials-nvecparallel-petsc4_5.8.0+dfsg-1build1_amd64.deb ...\n",
            "Unpacking libsundials-nvecparallel-petsc4:amd64 (5.8.0+dfsg-1build1) ...\n",
            "Selecting previously unselected package libsundials-nvecserial4:amd64.\n",
            "Preparing to unpack .../134-libsundials-nvecserial4_5.8.0+dfsg-1build1_amd64.deb ...\n",
            "Unpacking libsundials-nvecserial4:amd64 (5.8.0+dfsg-1build1) ...\n",
            "Selecting previously unselected package libsundials-sunmatrix2:amd64.\n",
            "Preparing to unpack .../135-libsundials-sunmatrix2_5.8.0+dfsg-1build1_amd64.deb ...\n",
            "Unpacking libsundials-sunmatrix2:amd64 (5.8.0+dfsg-1build1) ...\n",
            "Selecting previously unselected package libsundials-sunlinsol2:amd64.\n",
            "Preparing to unpack .../136-libsundials-sunlinsol2_5.8.0+dfsg-1build1_amd64.deb ...\n",
            "Unpacking libsundials-sunlinsol2:amd64 (5.8.0+dfsg-1build1) ...\n",
            "Selecting previously unselected package libtext-unidecode-perl.\n",
            "Preparing to unpack .../137-libtext-unidecode-perl_1.30-1_all.deb ...\n",
            "Unpacking libtext-unidecode-perl (1.30-1) ...\n",
            "Selecting previously unselected package libwacom-bin.\n",
            "Preparing to unpack .../138-libwacom-bin_2.2.0-1_amd64.deb ...\n",
            "Unpacking libwacom-bin (2.2.0-1) ...\n",
            "Selecting previously unselected package libxml-namespacesupport-perl.\n",
            "Preparing to unpack .../139-libxml-namespacesupport-perl_1.12-1.1_all.deb ...\n",
            "Unpacking libxml-namespacesupport-perl (1.12-1.1) ...\n",
            "Selecting previously unselected package libxml-sax-base-perl.\n",
            "Preparing to unpack .../140-libxml-sax-base-perl_1.09-1.1_all.deb ...\n",
            "Unpacking libxml-sax-base-perl (1.09-1.1) ...\n",
            "Selecting previously unselected package libxml-sax-perl.\n",
            "Preparing to unpack .../141-libxml-sax-perl_1.02+dfsg-3_all.deb ...\n",
            "Unpacking libxml-sax-perl (1.02+dfsg-3) ...\n",
            "Selecting previously unselected package libxml-libxml-perl.\n",
            "Preparing to unpack .../142-libxml-libxml-perl_2.0207+dfsg+really+2.0134-1_amd64.deb ...\n",
            "Unpacking libxml-libxml-perl (2.0207+dfsg+really+2.0134-1) ...\n",
            "Selecting previously unselected package libxml-parser-perl:amd64.\n",
            "Preparing to unpack .../143-libxml-parser-perl_2.46-3build1_amd64.deb ...\n",
            "Unpacking libxml-parser-perl:amd64 (2.46-3build1) ...\n",
            "Selecting previously unselected package libxml-sax-expat-perl.\n",
            "Preparing to unpack .../144-libxml-sax-expat-perl_0.51-1_all.deb ...\n",
            "Unpacking libxml-sax-expat-perl (0.51-1) ...\n",
            "Selecting previously unselected package pstoedit.\n",
            "Preparing to unpack .../145-pstoedit_3.78-1_amd64.deb ...\n",
            "Unpacking pstoedit (3.78-1) ...\n",
            "Selecting previously unselected package qt5-gtk-platformtheme:amd64.\n",
            "Preparing to unpack .../146-qt5-gtk-platformtheme_5.15.3+dfsg-2ubuntu0.2_amd64.deb ...\n",
            "Unpacking qt5-gtk-platformtheme:amd64 (5.15.3+dfsg-2ubuntu0.2) ...\n",
            "Selecting previously unselected package qttranslations5-l10n.\n",
            "Preparing to unpack .../147-qttranslations5-l10n_5.15.3-1_all.deb ...\n",
            "Unpacking qttranslations5-l10n (5.15.3-1) ...\n",
            "Selecting previously unselected package texinfo.\n",
            "Preparing to unpack .../148-texinfo_6.8-4build1_amd64.deb ...\n",
            "Unpacking texinfo (6.8-4build1) ...\n",
            "Selecting previously unselected package libauthen-sasl-perl.\n",
            "Preparing to unpack .../149-libauthen-sasl-perl_2.1600-1.1_all.deb ...\n",
            "Unpacking libauthen-sasl-perl (2.1600-1.1) ...\n",
            "Selecting previously unselected package libglu1-mesa:amd64.\n",
            "Preparing to unpack .../150-libglu1-mesa_9.0.2-1_amd64.deb ...\n",
            "Unpacking libglu1-mesa:amd64 (9.0.2-1) ...\n",
            "Selecting previously unselected package octave-common.\n",
            "Preparing to unpack .../151-octave-common_6.4.0-2_all.deb ...\n",
            "Unpacking octave-common (6.4.0-2) ...\n",
            "Selecting previously unselected package octave.\n",
            "Preparing to unpack .../152-octave_6.4.0-2_amd64.deb ...\n",
            "Unpacking octave (6.4.0-2) ...\n",
            "Selecting previously unselected package octave-doc.\n",
            "Preparing to unpack .../153-octave-doc_6.4.0-2_all.deb ...\n",
            "Unpacking octave-doc (6.4.0-2) ...\n",
            "Setting up libplot2c2:amd64 (2.6-11) ...\n",
            "Setting up libportaudio2:amd64 (19.6.0-1.1) ...\n",
            "Setting up libhttp-date-perl (6.05-1) ...\n",
            "Setting up imagemagick-6-common (8:6.9.11.60+dfsg-1.3ubuntu0.22.04.5) ...\n",
            "Setting up libfftw3-single3:amd64 (3.3.8-2ubuntu8) ...\n",
            "Setting up libcombblas1.16.0:amd64 (1.6.2-8) ...\n",
            "Setting up libfile-listing-perl (6.14-1) ...\n",
            "Setting up fonts-noto-mono (20201225-1build1) ...\n",
            "Setting up default-jre-headless (2:1.11-72build2) ...\n",
            "Setting up libwmflite-0.2-7:amd64 (0.2.12-5ubuntu1) ...\n",
            "Setting up libxcb-xinput0:amd64 (1.14-3ubuntu3) ...\n",
            "Setting up libfont-afm-perl (1.20-3) ...\n",
            "Setting up libsundials-nvecserial4:amd64 (5.8.0+dfsg-1build1) ...\n",
            "Setting up libclone-perl (0.45-1build3) ...\n",
            "Setting up libhtml-tagset-perl (3.20-4) ...\n",
            "Setting up libqscintilla2-qt5-l10n (2.11.6+dfsg-4) ...\n",
            "Setting up libzip4:amd64 (1.7.3-1ubuntu2) ...\n",
            "Setting up libijs-0.35:amd64 (0.35-15build2) ...\n",
            "Setting up libauthen-sasl-perl (2.1600-1.1) ...\n",
            "Setting up libfltk1.3:amd64 (1.3.8-4) ...\n",
            "Setting up liblwp-mediatypes-perl (6.04-1) ...\n",
            "Setting up libfltk-gl1.3:amd64 (1.3.8-4) ...\n",
            "Setting up fonts-freefont-otf (20120503-10build1) ...\n",
            "Setting up libxcb-keysyms1:amd64 (0.4.0-1build3) ...\n",
            "Setting up libsundials-ida4:amd64 (5.8.0+dfsg-1build1) ...\n",
            "Setting up libtry-tiny-perl (0.31-1) ...\n",
            "Setting up libptscotch-6.1:amd64 (6.1.3-1) ...\n",
            "Setting up perl-openssl-defaults:amd64 (5build2) ...\n",
            "Setting up libxml-namespacesupport-perl (1.12-1.1) ...\n",
            "Setting up libfftw3-long3:amd64 (3.3.8-2ubuntu8) ...\n",
            "Setting up libxcb-render-util0:amd64 (0.3.9-1build3) ...\n",
            "Setting up libencode-locale-perl (1.05-1.1) ...\n",
            "Setting up libtrilinos-kokkos-13.2:amd64 (13.2.0-1ubuntu1) ...\n",
            "Setting up libmetis5:amd64 (5.1.0.dfsg-7build2) ...\n",
            "Setting up libxcb-icccm4:amd64 (0.4.1-1.1build2) ...\n",
            "Setting up fonts-urw-base35 (20200910-1) ...\n",
            "Setting up libtrilinos-zoltan-13.2:amd64 (13.2.0-1ubuntu1) ...\n",
            "Setting up libqrupdate1:amd64 (1.1.2-4) ...\n",
            "Setting up octave-common (6.4.0-2) ...\n",
            "Setting up libbtf1:amd64 (1:5.10.1+dfsg-4build1) ...\n",
            "Setting up libxcb-util1:amd64 (0.4.0-1build2) ...\n",
            "Setting up poppler-data (0.4.11-1) ...\n",
            "Setting up libxcb-xkb1:amd64 (1.14-3ubuntu3) ...\n",
            "Setting up libxcb-image0:amd64 (0.4.0-2) ...\n",
            "Setting up libtrilinos-trilinosss-13.2:amd64 (13.2.0-1ubuntu1) ...\n",
            "Setting up tex-common (6.17) ...\n",
            "update-language: texlive-base not installed and configured, doing nothing!\n",
            "Setting up libxml-sax-base-perl (1.09-1.1) ...\n",
            "Setting up libxcb-xinerama0:amd64 (1.14-3ubuntu3) ...\n",
            "Setting up libtrilinos-teuchos-13.2:amd64 (13.2.0-1ubuntu1) ...\n",
            "Setting up qttranslations5-l10n (5.15.3-1) ...\n",
            "Setting up libdata-dump-perl (1.25-1) ...\n",
            "Setting up libjbig2dec0:amd64 (0.19-3build2) ...\n",
            "Setting up libnotify4:amd64 (0.7.9-3ubuntu5.22.04.1) ...\n",
            "Setting up aglfn (1.7+git20191031.4036a9c-2) ...\n",
            "Setting up gsfonts (1:8.11+urwcyr1.0.7~pre44-4.5) ...\n",
            "Setting up libtrilinos-epetra-13.2:amd64 (13.2.0-1ubuntu1) ...\n",
            "Setting up libxkbcommon-x11-0:amd64 (1.4.0-1) ...\n",
            "Setting up libidn12:amd64 (1.38-4ubuntu1) ...\n",
            "Setting up libio-html-perl (1.004-2) ...\n",
            "Setting up libgraphicsmagick-q16-3 (1.4+really1.3.38-1ubuntu0.1) ...\n",
            "Setting up libqt5core5a:amd64 (5.15.3+dfsg-2ubuntu0.2) ...\n",
            "Setting up libfftw3-double3:amd64 (3.3.8-2ubuntu8) ...\n",
            "Setting up libmtdev1:amd64 (1.1.6-1build4) ...\n",
            "Setting up liblqr-1-0:amd64 (0.4.2-2.1) ...\n",
            "Setting up libtrilinos-aztecoo-13.2:amd64 (13.2.0-1ubuntu1) ...\n",
            "Setting up libqt5dbus5:amd64 (5.15.3+dfsg-2ubuntu0.2) ...\n",
            "Setting up libsuperlu-dist7:amd64 (7.2.0+dfsg1-2) ...\n",
            "Setting up libmd4c0:amd64 (0.4.8-1) ...\n",
            "Setting up liblua5.4-0:amd64 (5.4.4-1) ...\n",
            "Setting up netbase (6.3) ...\n",
            "Setting up libwxbase3.0-0v5:amd64 (3.0.5.1+dfsg-4) ...\n",
            "Setting up libgraphicsmagick++-q16-12 (1.4+really1.3.38-1ubuntu0.1) ...\n",
            "Setting up libcxsparse3:amd64 (1:5.10.1+dfsg-4build1) ...\n",
            "Setting up libglu1-mesa:amd64 (9.0.2-1) ...\n",
            "Setting up fonts-droid-fallback (1:6.0.1r16-1.1build1) ...\n",
            "Setting up libtext-unidecode-perl (1.30-1) ...\n",
            "Setting up libhypre-2.22.1:amd64 (2.22.1-7) ...\n",
            "Setting up libemf1:amd64 (1.0.13-3) ...\n",
            "Setting up libevdev2:amd64 (1.12.1+dfsg-1) ...\n",
            "Setting up libsuitesparseconfig5:amd64 (1:5.10.1+dfsg-4build1) ...\n",
            "Setting up liburi-perl (5.10-1) ...\n",
            "Setting up info (6.8-4build1) ...\n",
            "update-alternatives: using /usr/bin/info to provide /usr/bin/infobrowser (infobrowser) in auto mode\n",
            "Setting up libgudev-1.0-0:amd64 (1:237-2build1) ...\n",
            "Setting up libtrilinos-triutils-13.2:amd64 (13.2.0-1ubuntu1) ...\n",
            "Setting up libsundials-sunmatrix2:amd64 (5.8.0+dfsg-1build1) ...\n",
            "Setting up libhdf5-openmpi-103-1:amd64 (1.10.7+repack-4ubuntu2) ...\n",
            "Setting up libhttp-message-perl (6.36-1) ...\n",
            "Setting up libwacom-common (2.2.0-1) ...\n",
            "Setting up libnet-ssleay-perl:amd64 (1.92-1build2) ...\n",
            "Setting up libgs9-common (9.55.0~dfsg1-0ubuntu5.10) ...\n",
            "Setting up gnuplot-data (5.4.2+dfsg2-2) ...\n",
            "Setting up libamd2:amd64 (1:5.10.1+dfsg-4build1) ...\n",
            "Setting up libhttp-negotiate-perl (6.01-1) ...\n",
            "Setting up libcolamd2:amd64 (1:5.10.1+dfsg-4build1) ...\n",
            "Setting up libgs9:amd64 (9.55.0~dfsg1-0ubuntu5.10) ...\n",
            "Setting up libhttp-cookies-perl (6.10-1) ...\n",
            "Setting up libwacom9:amd64 (2.2.0-1) ...\n",
            "Setting up libnet-http-perl (6.22-1) ...\n",
            "Setting up libfftw3-mpi3:amd64 (3.3.8-2ubuntu8) ...\n",
            "Setting up ghostscript (9.55.0~dfsg1-0ubuntu5.10) ...\n",
            "Setting up octave-doc (6.4.0-2) ...\n",
            "Setting up libxml-sax-perl (1.02+dfsg-3) ...\n",
            "update-perl-sax-parsers: Registering Perl SAX parser XML::SAX::PurePerl with priority 10...\n",
            "update-perl-sax-parsers: Updating overall Perl SAX parser modules info file...\n",
            "\n",
            "Creating config file /etc/perl/XML/SAX/ParserDetails.ini with new version\n",
            "Setting up libwxgtk3.0-gtk3-0v5:amd64 (3.0.5.1+dfsg-4) ...\n",
            "Setting up libqt5network5:amd64 (5.15.3+dfsg-2ubuntu0.2) ...\n",
            "Setting up libinput-bin (1.20.0-1ubuntu0.3) ...\n",
            "Setting up libqt5sql5:amd64 (5.15.3+dfsg-2ubuntu0.2) ...\n",
            "Setting up libcamd2:amd64 (1:5.10.1+dfsg-4build1) ...\n",
            "Setting up libmagickcore-6.q16-6:amd64 (8:6.9.11.60+dfsg-1.3ubuntu0.22.04.5) ...\n",
            "Setting up libqt5xml5:amd64 (5.15.3+dfsg-2ubuntu0.2) ...\n",
            "Setting up epstool (3.09-3) ...\n",
            "Setting up libglpk40:amd64 (5.0-1) ...\n",
            "Setting up libtrilinos-epetraext-13.2:amd64 (13.2.0-1ubuntu1) ...\n",
            "Setting up libxml-libxml-perl (2.0207+dfsg+really+2.0134-1) ...\n",
            "update-perl-sax-parsers: Registering Perl SAX parser XML::LibXML::SAX::Parser with priority 50...\n",
            "update-perl-sax-parsers: Registering Perl SAX parser XML::LibXML::SAX with priority 50...\n",
            "update-perl-sax-parsers: Updating overall Perl SAX parser modules info file...\n",
            "Replacing config file /etc/perl/XML/SAX/ParserDetails.ini with new version\n",
            "Setting up libwacom-bin (2.2.0-1) ...\n",
            "Setting up libwww-robotrules-perl (6.02-1) ...\n",
            "Setting up libtrilinos-galeri-13.2:amd64 (13.2.0-1ubuntu1) ...\n",
            "Setting up libhttp-daemon-perl (6.13-1ubuntu0.1) ...\n",
            "Setting up libklu1:amd64 (1:5.10.1+dfsg-4build1) ...\n",
            "Setting up libccolamd2:amd64 (1:5.10.1+dfsg-4build1) ...\n",
            "Setting up libhtml-parser-perl:amd64 (3.76-1build2) ...\n",
            "Setting up libmagickwand-6.q16-6:amd64 (8:6.9.11.60+dfsg-1.3ubuntu0.22.04.5) ...\n",
            "Setting up libtrilinos-amesos-13.2:amd64 (13.2.0-1ubuntu1) ...\n",
            "Setting up libmagick++-6.q16-8:amd64 (8:6.9.11.60+dfsg-1.3ubuntu0.22.04.5) ...\n",
            "Setting up libcholmod3:amd64 (1:5.10.1+dfsg-4build1) ...\n",
            "Setting up libio-socket-ssl-perl (2.074-2) ...\n",
            "Setting up libhtml-form-perl (6.07-1) ...\n",
            "Setting up libinput10:amd64 (1.20.0-1ubuntu0.3) ...\n",
            "Setting up libqt5sql5-sqlite:amd64 (5.15.3+dfsg-2ubuntu0.2) ...\n",
            "Setting up libpstoedit0c2a:amd64 (3.78-1) ...\n",
            "Setting up libhtml-tree-perl (5.07-2) ...\n",
            "Setting up libqt5gui5:amd64 (5.15.3+dfsg-2ubuntu0.2) ...\n",
            "Setting up libqt5widgets5:amd64 (5.15.3+dfsg-2ubuntu0.2) ...\n",
            "Setting up libhtml-format-perl (2.12-1.1) ...\n",
            "Setting up libqt5help5:amd64 (5.15.3-1) ...\n",
            "Setting up qt5-gtk-platformtheme:amd64 (5.15.3+dfsg-2ubuntu0.2) ...\n",
            "Setting up libqt5printsupport5:amd64 (5.15.3+dfsg-2ubuntu0.2) ...\n",
            "Setting up libumfpack5:amd64 (1:5.10.1+dfsg-4build1) ...\n",
            "Setting up libnet-smtp-ssl-perl (1.04-1) ...\n",
            "Setting up libmailtools-perl (2.21-1) ...\n",
            "Setting up libtrilinos-ifpack-13.2:amd64 (13.2.0-1ubuntu1) ...\n",
            "Setting up texinfo (6.8-4build1) ...\n",
            "Setting up pstoedit (3.78-1) ...\n",
            "Setting up libtrilinos-ml-13.2:amd64 (13.2.0-1ubuntu1) ...\n",
            "Setting up libqt5svg5:amd64 (5.15.3-1) ...\n",
            "Setting up libpetsc-real3.15:amd64 (3.15.5+dfsg1-1build2) ...\n",
            "update-alternatives: using /usr/lib/x86_64-linux-gnu/libpetsc_real.so.3.15.5 to provide /usr/lib/x86_64-linux-gnu/libpetsc.so.3.15 (libpetsc.so.3.15) in auto mode\n",
            "Setting up libqscintilla2-qt5-15 (2.11.6+dfsg-4) ...\n",
            "Setting up gnuplot-qt (5.4.2+dfsg2-2) ...\n",
            "update-alternatives: using /usr/bin/gnuplot-qt to provide /usr/bin/gnuplot (gnuplot) in auto mode\n",
            "Setting up libsundials-nvecparallel-petsc4:amd64 (5.8.0+dfsg-1build1) ...\n",
            "Setting up libsundials-sunlinsol2:amd64 (5.8.0+dfsg-1build1) ...\n",
            "Setting up octave (6.4.0-2) ...\n",
            "Setting up liblwp-protocol-https-perl (6.10-1) ...\n",
            "Setting up libwww-perl (6.61-1) ...\n",
            "Setting up libxml-parser-perl:amd64 (2.46-3build1) ...\n",
            "Setting up libxml-sax-expat-perl (0.51-1) ...\n",
            "update-perl-sax-parsers: Registering Perl SAX parser XML::SAX::Expat with priority 50...\n",
            "update-perl-sax-parsers: Updating overall Perl SAX parser modules info file...\n",
            "Replacing config file /etc/perl/XML/SAX/ParserDetails.ini with new version\n",
            "Processing triggers for install-info (6.8-4build1) ...\n",
            "Processing triggers for mailcap (3.70+nmu1ubuntu1) ...\n",
            "Processing triggers for fontconfig (2.13.1-4.2ubuntu5) ...\n",
            "Processing triggers for hicolor-icon-theme (0.17-2) ...\n",
            "Processing triggers for libc-bin (2.35-0ubuntu3.8) ...\n",
            "/sbin/ldconfig.real: /usr/local/lib/libtbbbind_2_0.so.3 is not a symbolic link\n",
            "\n",
            "/sbin/ldconfig.real: /usr/local/lib/libtcm_debug.so.1 is not a symbolic link\n",
            "\n",
            "/sbin/ldconfig.real: /usr/local/lib/libur_adapter_opencl.so.0 is not a symbolic link\n",
            "\n",
            "/sbin/ldconfig.real: /usr/local/lib/libtbbmalloc.so.2 is not a symbolic link\n",
            "\n",
            "/sbin/ldconfig.real: /usr/local/lib/libumf.so.0 is not a symbolic link\n",
            "\n",
            "/sbin/ldconfig.real: /usr/local/lib/libtcm.so.1 is not a symbolic link\n",
            "\n",
            "/sbin/ldconfig.real: /usr/local/lib/libtbbmalloc_proxy.so.2 is not a symbolic link\n",
            "\n",
            "/sbin/ldconfig.real: /usr/local/lib/libhwloc.so.15 is not a symbolic link\n",
            "\n",
            "/sbin/ldconfig.real: /usr/local/lib/libtbb.so.12 is not a symbolic link\n",
            "\n",
            "/sbin/ldconfig.real: /usr/local/lib/libur_adapter_level_zero.so.0 is not a symbolic link\n",
            "\n",
            "/sbin/ldconfig.real: /usr/local/lib/libtbbbind_2_5.so.3 is not a symbolic link\n",
            "\n",
            "/sbin/ldconfig.real: /usr/local/lib/libur_loader.so.0 is not a symbolic link\n",
            "\n",
            "/sbin/ldconfig.real: /usr/local/lib/libtbbbind.so.3 is not a symbolic link\n",
            "\n",
            "Processing triggers for man-db (2.10.2-1) ...\n"
          ]
        }
      ],
      "source": [
        "!apt install octave"
      ]
    },
    {
      "cell_type": "code",
      "source": [
        "!pip install oct2py"
      ],
      "metadata": {
        "id": "Su0Mh-wEz4VM",
        "colab": {
          "base_uri": "https://localhost:8080/"
        },
        "outputId": "157aac31-cbb6-4173-ef8c-1b20a75a1dad"
      },
      "execution_count": null,
      "outputs": [
        {
          "output_type": "stream",
          "name": "stdout",
          "text": [
            "Collecting oct2py\n",
            "  Downloading oct2py-5.8.0-py3-none-any.whl.metadata (5.0 kB)\n",
            "Requirement already satisfied: numpy>=1.12 in /usr/local/lib/python3.11/dist-packages (from oct2py) (1.26.4)\n",
            "Collecting octave-kernel>=0.34.0 (from oct2py)\n",
            "  Downloading octave_kernel-0.36.0-py3-none-any.whl.metadata (8.3 kB)\n",
            "Requirement already satisfied: scipy>=0.17 in /usr/local/lib/python3.11/dist-packages (from oct2py) (1.13.1)\n",
            "Requirement already satisfied: ipykernel in /usr/local/lib/python3.11/dist-packages (from octave-kernel>=0.34.0->oct2py) (6.17.1)\n",
            "Requirement already satisfied: jupyter-client>=4.3.0 in /usr/local/lib/python3.11/dist-packages (from octave-kernel>=0.34.0->oct2py) (6.1.12)\n",
            "Collecting metakernel>=0.24.0 (from octave-kernel>=0.34.0->oct2py)\n",
            "  Downloading metakernel-0.30.2-py3-none-any.whl.metadata (7.5 kB)\n",
            "Requirement already satisfied: traitlets in /usr/local/lib/python3.11/dist-packages (from jupyter-client>=4.3.0->octave-kernel>=0.34.0->oct2py) (5.7.1)\n",
            "Requirement already satisfied: jupyter-core>=4.6.0 in /usr/local/lib/python3.11/dist-packages (from jupyter-client>=4.3.0->octave-kernel>=0.34.0->oct2py) (5.7.2)\n",
            "Requirement already satisfied: pyzmq>=13 in /usr/local/lib/python3.11/dist-packages (from jupyter-client>=4.3.0->octave-kernel>=0.34.0->oct2py) (24.0.1)\n",
            "Requirement already satisfied: python-dateutil>=2.1 in /usr/local/lib/python3.11/dist-packages (from jupyter-client>=4.3.0->octave-kernel>=0.34.0->oct2py) (2.8.2)\n",
            "Requirement already satisfied: tornado>=4.1 in /usr/local/lib/python3.11/dist-packages (from jupyter-client>=4.3.0->octave-kernel>=0.34.0->oct2py) (6.4.2)\n",
            "Collecting jedi>=0.18 (from metakernel>=0.24.0->octave-kernel>=0.34.0->oct2py)\n",
            "  Downloading jedi-0.19.2-py2.py3-none-any.whl.metadata (22 kB)\n",
            "Requirement already satisfied: pexpect>=4.8 in /usr/local/lib/python3.11/dist-packages (from metakernel>=0.24.0->octave-kernel>=0.34.0->oct2py) (4.9.0)\n",
            "Requirement already satisfied: debugpy>=1.0 in /usr/local/lib/python3.11/dist-packages (from ipykernel->octave-kernel>=0.34.0->oct2py) (1.8.0)\n",
            "Requirement already satisfied: ipython>=7.23.1 in /usr/local/lib/python3.11/dist-packages (from ipykernel->octave-kernel>=0.34.0->oct2py) (7.34.0)\n",
            "Requirement already satisfied: matplotlib-inline>=0.1 in /usr/local/lib/python3.11/dist-packages (from ipykernel->octave-kernel>=0.34.0->oct2py) (0.1.7)\n",
            "Requirement already satisfied: nest-asyncio in /usr/local/lib/python3.11/dist-packages (from ipykernel->octave-kernel>=0.34.0->oct2py) (1.6.0)\n",
            "Requirement already satisfied: packaging in /usr/local/lib/python3.11/dist-packages (from ipykernel->octave-kernel>=0.34.0->oct2py) (24.2)\n",
            "Requirement already satisfied: psutil in /usr/local/lib/python3.11/dist-packages (from ipykernel->octave-kernel>=0.34.0->oct2py) (5.9.5)\n",
            "Requirement already satisfied: setuptools>=18.5 in /usr/local/lib/python3.11/dist-packages (from ipython>=7.23.1->ipykernel->octave-kernel>=0.34.0->oct2py) (75.1.0)\n",
            "Requirement already satisfied: decorator in /usr/local/lib/python3.11/dist-packages (from ipython>=7.23.1->ipykernel->octave-kernel>=0.34.0->oct2py) (4.4.2)\n",
            "Requirement already satisfied: pickleshare in /usr/local/lib/python3.11/dist-packages (from ipython>=7.23.1->ipykernel->octave-kernel>=0.34.0->oct2py) (0.7.5)\n",
            "Requirement already satisfied: prompt-toolkit!=3.0.0,!=3.0.1,<3.1.0,>=2.0.0 in /usr/local/lib/python3.11/dist-packages (from ipython>=7.23.1->ipykernel->octave-kernel>=0.34.0->oct2py) (3.0.50)\n",
            "Requirement already satisfied: pygments in /usr/local/lib/python3.11/dist-packages (from ipython>=7.23.1->ipykernel->octave-kernel>=0.34.0->oct2py) (2.18.0)\n",
            "Requirement already satisfied: backcall in /usr/local/lib/python3.11/dist-packages (from ipython>=7.23.1->ipykernel->octave-kernel>=0.34.0->oct2py) (0.2.0)\n",
            "Requirement already satisfied: parso<0.9.0,>=0.8.4 in /usr/local/lib/python3.11/dist-packages (from jedi>=0.18->metakernel>=0.24.0->octave-kernel>=0.34.0->oct2py) (0.8.4)\n",
            "Requirement already satisfied: platformdirs>=2.5 in /usr/local/lib/python3.11/dist-packages (from jupyter-core>=4.6.0->jupyter-client>=4.3.0->octave-kernel>=0.34.0->oct2py) (4.3.6)\n",
            "Requirement already satisfied: ptyprocess>=0.5 in /usr/local/lib/python3.11/dist-packages (from pexpect>=4.8->metakernel>=0.24.0->octave-kernel>=0.34.0->oct2py) (0.7.0)\n",
            "Requirement already satisfied: six>=1.5 in /usr/local/lib/python3.11/dist-packages (from python-dateutil>=2.1->jupyter-client>=4.3.0->octave-kernel>=0.34.0->oct2py) (1.17.0)\n",
            "Requirement already satisfied: wcwidth in /usr/local/lib/python3.11/dist-packages (from prompt-toolkit!=3.0.0,!=3.0.1,<3.1.0,>=2.0.0->ipython>=7.23.1->ipykernel->octave-kernel>=0.34.0->oct2py) (0.2.13)\n",
            "Downloading oct2py-5.8.0-py3-none-any.whl (29 kB)\n",
            "Downloading octave_kernel-0.36.0-py3-none-any.whl (35 kB)\n",
            "Downloading metakernel-0.30.2-py3-none-any.whl (217 kB)\n",
            "\u001b[2K   \u001b[90m━━━━━━━━━━━━━━━━━━━━━━━━━━━━━━━━━━━━━━━━\u001b[0m \u001b[32m217.8/217.8 kB\u001b[0m \u001b[31m8.3 MB/s\u001b[0m eta \u001b[36m0:00:00\u001b[0m\n",
            "\u001b[?25hDownloading jedi-0.19.2-py2.py3-none-any.whl (1.6 MB)\n",
            "\u001b[2K   \u001b[90m━━━━━━━━━━━━━━━━━━━━━━━━━━━━━━━━━━━━━━━━\u001b[0m \u001b[32m1.6/1.6 MB\u001b[0m \u001b[31m38.2 MB/s\u001b[0m eta \u001b[36m0:00:00\u001b[0m\n",
            "\u001b[?25hInstalling collected packages: jedi, metakernel, octave-kernel, oct2py\n",
            "Successfully installed jedi-0.19.2 metakernel-0.30.2 oct2py-5.8.0 octave-kernel-0.36.0\n"
          ]
        }
      ]
    },
    {
      "cell_type": "code",
      "source": [
        "%load_ext oct2py.ipython"
      ],
      "metadata": {
        "id": "EbNdUds2E39h"
      },
      "execution_count": null,
      "outputs": []
    },
    {
      "cell_type": "markdown",
      "source": [
        "# **MAIN PROGRAM**\n",
        "\n"
      ],
      "metadata": {
        "id": "yE8qioOfLZnD"
      }
    },
    {
      "cell_type": "markdown",
      "source": [
        "## **Program's brief description**"
      ],
      "metadata": {
        "id": "emSJfHDZFkll"
      }
    },
    {
      "cell_type": "code",
      "source": [
        "%%octave\n",
        "\n",
        "%%%%%%%%%%%%%%%%%%%%%%%%%%%%%%%%\n",
        "% Program to perform 4D-Var data assimilation on the\n",
        "% Lorenz equations\n",
        "%\n",
        "%\n",
        "%  (c) 2002  Data Assimilation Research Centre\n",
        "%\n",
        "%  Original Fortran program by Marek Wlasak\n",
        "%  Converted to Matlab by Amos Lawless\n",
        "%\n",
        "%  Change history:\n",
        "%      Changes to make code more robust and add further options\n",
        "%                       (Amos Lawless)\n",
        "%      16/03/04  Corrections to code\n",
        "%                Remove high memory allocations\n",
        "%                Ensure windows appear in correct place\n",
        "%                       (Amos Lawless)\n",
        "%\n",
        "%  List of main variables\n",
        "%    a:          sigma coefficient in equations\n",
        "%    r:          rho coefficient in equations\n",
        "%    b:          beta coefficient in equations\n",
        "%\n",
        "%    ta:         Length of assimilation window\n",
        "%    tf:         Length of forecast window\n",
        "%    h:          Time step for numerical scheme\n",
        "%    freq:       Frequency of observations in time steps\n",
        "%    tstep:      Number of time steps for assimilation\n",
        "%    fcstep:     Total number of time steps for assimilation + forecast\n",
        "%\n",
        "%    [xx,yy,zz]: Truth values of trajectory\n",
        "%    [xf,yf,zf]: First guess values of trajectory\n",
        "%    [x,y,z]:    Calculated values of trajectory and final analysis\n",
        "%    [lx,ly,lz]: Gradient values calculated from adjoint\n",
        "%\n",
        "%    [datx,daty,datz]: Observation values\n",
        "%    D:                Observation weighting matrix\n",
        "%    max_iterations:   Maximum number of minimization iterations\n",
        "%    tolerance:        Convergence tolerance for minimization\n",
        "%    s:                Calculated step length in minimization\n",
        "%\n",
        "%\n",
        "%%%%%%%%%%%%%%%%%%%%%%%%%%%%%%%%%%%%%%%%%%%%%%%%%%%%%%%%%%%%%%\n"
      ],
      "metadata": {
        "id": "9HpgUAWU0-Ot"
      },
      "execution_count": null,
      "outputs": []
    },
    {
      "cell_type": "markdown",
      "source": [
        "## **1. Set up**"
      ],
      "metadata": {
        "id": "mIYDfN2UA5Xh"
      }
    },
    {
      "cell_type": "code",
      "source": [
        "%%octave\n",
        "\n",
        "% Determine screen size and set up figure positions\n",
        "ss=get(0,'ScreenSize');\n",
        "fig_width=0.55*ss(3);\n",
        "fig_height=0.4*ss(4);\n",
        "pos_1=[0.02*ss(3),0.55*ss(4),fig_width,fig_height];\n",
        "pos_2=[0.02*ss(3),0.05*ss(4),fig_width,fig_height];\n",
        "pos_3=[0.6*ss(3),0.45*ss(4),0.4*ss(3),0.45*ss(4)];\n",
        "pl=0.6*ss(3);\n",
        "pb=0.05*ss(4);\n",
        "pw=0.3*ss(3);\n",
        "ph=0.3*ss(4);\n",
        "pos_4=[pl,pb,pw,ph];\n",
        "pos_5=[0.02*pw,0.8*ph,0.95*pw,0.2*ph];\n",
        "pos_6=[0.02*pw,0.02*ph,0.95*pw,0.75*ph];\n",
        "%\n",
        "format long\n",
        "%parameters\n",
        "a=1.0d1;       % sigma\n",
        "b=8.0d0/3.0d0; % rho\n",
        "r=2.8d1;       % beta"
      ],
      "metadata": {
        "id": "XZiEmKcTLToq"
      },
      "execution_count": null,
      "outputs": []
    },
    {
      "cell_type": "markdown",
      "source": [
        "## **2. Input truth parameters and calculate truth**"
      ],
      "metadata": {
        "id": "OZ33hAOVBD-F"
      }
    },
    {
      "cell_type": "markdown",
      "source": [
        "### function **modeuler**"
      ],
      "metadata": {
        "id": "JmNt8EVkMgPh"
      }
    },
    {
      "cell_type": "code",
      "source": [
        "%%octave\n",
        "\n",
        "function [xo,yo,zo]=modeuler(tstep,h,j,zval,yval,xval,a,r,b)\n",
        "%%%%%%%%%%%%%%%%%%%%%%%%%%%%%%%%%%%%%%%%%%%%%%%%%%%%%%%%%%%%%%\n",
        "%\n",
        "%  Purpose: Apply modified Euler scheme to the  Lorenz equations\n",
        "%\n",
        "%  (c) 2002  Data Assimilation Research Centre\n",
        "%\n",
        "%  Original Fortran program by Marek Wlasak\n",
        "%  Converted to Matlab by Amos Lawless\n",
        "%\n",
        "%  List of main variables\n",
        "%    a:          sigma coefficient in equations\n",
        "%    r:          rho coefficient in equations\n",
        "%    b:          beta coefficient in equations\n",
        "%    h:          Time step for numerical scheme\n",
        "%    tstep:      Number of time steps to perform\n",
        "%    [xval,yval,zval]: Initial fields\n",
        "%    j:          Index to pick up correct initial field\n",
        "%\n",
        "%  Output:\n",
        "%    [xo,yo,zo]: Trajectories of evolved fields\n",
        "%\n",
        "%%%%%%%%%%%%%%%%%%%%%%%%%%%%%%%%%%%%%%%%%%%%%%%%%%%%%%%%%%%%%%\n",
        "x=zeros(tstep,1);\n",
        "y=zeros(tstep,1);\n",
        "z=zeros(tstep,1);\n",
        "%\n",
        "x(1)=xval(j+1);\n",
        "y(1)=yval(j+1);\n",
        "z(1)=zval(j+1);\n",
        "%\n",
        "for i = 1:tstep\n",
        "  kx1=h*f(a,x(i),y(i),z(i));\n",
        "  ky1=h*g(r,x(i),y(i),z(i));\n",
        "  kz1=h*fg(b,x(i),y(i),z(i));\n",
        "\n",
        "  kx2=h*f(a,x(i)+kx1,y(i)+ky1,z(i)+kz1);\n",
        "  ky2=h*g(r,x(i)+kx1,y(i)+ky1,z(i)+kz1);\n",
        "  kz2=h*fg(b,x(i)+kx1,y(i)+ky1,z(i)+kz1);\n",
        "\n",
        "  x(i+1)=x(i)+0.5d0*(kx1+kx2);\n",
        "  y(i+1)=y(i)+0.5d0*(ky1+ky2);\n",
        "  z(i+1)=z(i)+0.5d0*(kz1+kz2);\n",
        "end\n",
        "\n",
        "xo=x;\n",
        "yo=y;\n",
        "zo=z;\n",
        "%\n",
        "function [f_out]=f(a,xvl,yvl,zvl);\n",
        "      f_out=a*(yvl-xvl);\n",
        "\n",
        "function [g_out]=g(r,xvl,yvl,zvl);\n",
        "      g_out=r*xvl-yvl-xvl*zvl;\n",
        "\n",
        "function [fg_out]=fg(b,xvl,yvl,zvl);\n",
        "      fg_out=xvl*yvl-b*zvl;\n"
      ],
      "metadata": {
        "id": "919ft_6qQWM2"
      },
      "execution_count": null,
      "outputs": []
    },
    {
      "cell_type": "markdown",
      "source": [
        "### initial contidions"
      ],
      "metadata": {
        "id": "CK6XUeR2Bwqk"
      }
    },
    {
      "cell_type": "code",
      "source": [
        "%%octave\n",
        "\n",
        "%---------------------------------------------------------------------\n",
        "%  2. Input truth parameters and calculate truth\n",
        "%---------------------------------------------------------------------\n",
        "% Inputs 1\n",
        "% True value of x at t=0\n",
        "truex=1.0;\n",
        "\n",
        "% True value of y at t=0\n",
        "truey=1.0;\n",
        "\n",
        "% True value of z at t=0\n",
        "truez=1.0;\n"
      ],
      "metadata": {
        "id": "bmr1e2-Q7Clz"
      },
      "execution_count": null,
      "outputs": []
    },
    {
      "cell_type": "markdown",
      "source": [
        "### parameters"
      ],
      "metadata": {
        "id": "bGlX8KlFBn1k"
      }
    },
    {
      "cell_type": "code",
      "source": [
        "%%octave\n",
        "\n",
        "% Inputs 2\n",
        "% Length of assimilation window\n",
        "ta=3;\n",
        "\n",
        "% Length of subsequent forecast\n",
        "tf=3;\n",
        "\n",
        "ystr='Time step';\n",
        "h=0.05;\n",
        "\n",
        "% Frequency of observations (in time steps)\n",
        "freq=2;\n",
        "\n",
        "tstep = ta/h+1; %41\n",
        "fcstep = (ta+tf)/h; %100\n",
        "\n",
        "% Run truth\n",
        "guessx(1)=truex;\n",
        "guessy(1)=truey;\n",
        "guessz(1)=truez;\n",
        "j=0;\n",
        "[xx,yy,zz]=modeuler(fcstep,h,j,guessz,guessy,guessx,a,r,b);"
      ],
      "metadata": {
        "id": "eXP_2ayaBTWc"
      },
      "execution_count": null,
      "outputs": []
    },
    {
      "cell_type": "markdown",
      "source": [
        "## **3. Calculate observations and plot truth and observations**\n"
      ],
      "metadata": {
        "id": "e1lUNJMbCG87"
      }
    },
    {
      "cell_type": "code",
      "source": [
        "%%octave\n",
        "\n",
        "%---------------------------------------------------------------------\n",
        "% 3. Calculate observations and plot truth and observations\n",
        "%---------------------------------------------------------------------\n",
        "D=zeros(tstep,1);\n",
        "n_obs = (tstep-1) / freq + 1;\n",
        "datx=zeros(n_obs,1);\n",
        "daty=zeros(n_obs,1);\n",
        "datz=zeros(n_obs,1);\n",
        "%l_noise=menu_asl('Noise on observations?','No','Yes');\n",
        "l_noise=2;\n",
        "l_noise=l_noise-1;\n",
        "if l_noise==1\n",
        "  sc_x_noise=randn(n_obs,1);\n",
        "  sc_y_noise=randn(n_obs,1);\n",
        "  sc_z_noise=randn(n_obs,1);\n",
        "  %sd_str=inputdlg('Variance of observation error');\n",
        "  %sd=str2num(sd_str{1});\n",
        "  sd=0.1;\n",
        "  var=sqrt(sd);\n",
        "  RX=var*sc_x_noise;\n",
        "  RY=var*sc_y_noise;\n",
        "  RZ=var*sc_z_noise;\n",
        "else\n",
        "  for i=1:n_obs;\n",
        "    RX(i)=0.0;\n",
        "    RY(i)=0.0;\n",
        "    RZ(i)=0.0;\n",
        "  end\n",
        "end\n",
        "% Set up data and matrix D\n",
        "j=1;\n",
        "for i=1:freq:tstep\n",
        "  datx(i)=xx(i)+RX(j);\n",
        "  daty(i)=yy(i)+RY(j);\n",
        "  datz(i)=zz(i)+RZ(j);\n",
        "  D(i) = 1.;\n",
        "  j=j+1;\n",
        "end\n",
        "\n"
      ],
      "metadata": {
        "id": "Q32Bz58r7d8K"
      },
      "execution_count": null,
      "outputs": []
    },
    {
      "cell_type": "code",
      "source": [
        "%%octave\n",
        "\n",
        "% Plot truth and observations\n",
        "xvals=0:fcstep;\n",
        "vec=1:freq:tstep;\n",
        "v=vec-1;\n",
        "for i=vec\n",
        "  x_ob(i)=datx(i);\n",
        "  z_ob(i)=datz(i);\n",
        "end\n",
        "% x_ob and z_ob are temporary arrays for plotting\n",
        "%\n",
        "h1=figure(1);\n",
        "%clf;\n",
        "plot(xvals,xx)\n",
        "hold on\n",
        "plot(v,x_ob(vec),'.m')\n",
        "%hold on\n",
        "xlabel('passo de tempo')\n",
        "ylabel('x')\n",
        "title('Solucao para x')\n",
        "legend('modelo','observacoes')\n",
        "%\n",
        "\n"
      ],
      "metadata": {
        "id": "ySEx9X5NW1Gh",
        "colab": {
          "base_uri": "https://localhost:8080/"
        },
        "outputId": "ae0bdc24-0be2-4ef6-e1fd-526d4272b437"
      },
      "execution_count": null,
      "outputs": [
        {
          "output_type": "display_data",
          "data": {
            "text/plain": [
              "ans = -8.277774711010151"
            ]
          },
          "metadata": {}
        },
        {
          "output_type": "display_data",
          "data": {
            "image/png": "[encoded data removed]",
            "text/plain": [
              "<IPython.core.display.Image object>"
            ]
          },
          "metadata": {}
        }
      ]
    },
    {
      "cell_type": "code",
      "source": [
        "%%octave\n",
        "\n",
        "h2=figure(2);\n",
        "plot(xvals,zz)\n",
        "hold on\n",
        "plot(v,z_ob(vec),'.m')\n",
        "hold on\n",
        "xlabel('passo de tempo')\n",
        "ylabel('z')\n",
        "title('Solucao para z')\n",
        "legend('modelo','observacoes')"
      ],
      "metadata": {
        "id": "-UlQTLu9Xx6L",
        "colab": {
          "base_uri": "https://localhost:8080/"
        },
        "outputId": "e32a9c70-ca6e-42c0-89fd-095d7eac037d"
      },
      "execution_count": null,
      "outputs": [
        {
          "output_type": "display_data",
          "data": {
            "text/plain": [
              "ans = -10.12979044712624"
            ]
          },
          "metadata": {}
        },
        {
          "output_type": "display_data",
          "data": {
            "image/png": "[encoded data removed]",
            "text/plain": [
              "<IPython.core.display.Image object>"
            ]
          },
          "metadata": {}
        }
      ]
    },
    {
      "cell_type": "markdown",
      "source": [
        "## **4. Input initial guess and run model from this**"
      ],
      "metadata": {
        "id": "X2bPqh7MEh2c"
      }
    },
    {
      "cell_type": "markdown",
      "source": [
        "### Choose number of time steps between observations"
      ],
      "metadata": {
        "id": "apQJBpVywEew"
      }
    },
    {
      "cell_type": "code",
      "source": [
        "%%octave\n",
        "\n",
        "xstr='Initial guess of x at t=0';\n",
        "ystr='Initial guess of y at t=0';\n",
        "zstr='Initial guess of z at t=0';\n",
        "% guess_str=inputdlg({xstr,ystr,zstr},'Initial guess');\n",
        "guessx(2)=1.05;\n",
        "guessy(2)=1.05;\n",
        "guessz(2)=1.05;\n",
        "%\n",
        "j=1;\n",
        "% Plot first guess\n",
        "[xf,yf,zf]=modeuler(fcstep,h,j,guessz,guessy,guessx,a,r,b);\n",
        "h3=figure(3);\n",
        "plot(xvals,xx)\n",
        "hold on\n",
        "plot(v,x_ob(vec),'.m')\n",
        "plot(xvals,xf,'--k')\n",
        "legend('modelo','observacoes','background')\n",
        "\n"
      ],
      "metadata": {
        "id": "zx4ipHYUEcaj",
        "colab": {
          "base_uri": "https://localhost:8080/"
        },
        "outputId": "13808034-558b-44a4-f85e-797b04f4e0df"
      },
      "execution_count": null,
      "outputs": [
        {
          "output_type": "display_data",
          "data": {
            "text/plain": [
              "ans = -9.526744979188431"
            ]
          },
          "metadata": {}
        },
        {
          "output_type": "display_data",
          "data": {
            "image/png": "[encoded data removed]",
            "text/plain": [
              "<IPython.core.display.Image object>"
            ]
          },
          "metadata": {}
        }
      ]
    },
    {
      "cell_type": "code",
      "source": [
        "%%octave\n",
        "h4=figure(4);\n",
        "plot(xvals,zz)\n",
        "hold on\n",
        "plot(v,z_ob(vec),'.m')\n",
        "plot(xvals,zf,'--k')\n",
        "legend('modelo','observacoes','background')\n",
        "hold on"
      ],
      "metadata": {
        "id": "x6TqklawbCMc",
        "colab": {
          "base_uri": "https://localhost:8080/"
        },
        "outputId": "be7b5222-042c-43d7-f58b-42e888adf157"
      },
      "execution_count": null,
      "outputs": [
        {
          "output_type": "display_data",
          "data": {
            "text/plain": [
              "ans = -12.53160643413123"
            ]
          },
          "metadata": {}
        },
        {
          "output_type": "display_data",
          "data": {
            "image/png": "[encoded data removed]",
            "text/plain": [
              "<IPython.core.display.Image object>"
            ]
          },
          "metadata": {}
        }
      ]
    },
    {
      "cell_type": "markdown",
      "source": [
        "## **5. Input minimization info and perform minimization**"
      ],
      "metadata": {
        "id": "Ra2Mtwivi8tT"
      }
    },
    {
      "cell_type": "markdown",
      "source": [
        "### function **calcfg_inc**"
      ],
      "metadata": {
        "id": "es6EZnh3dGTX"
      }
    },
    {
      "cell_type": "code",
      "source": [
        "%%octave\n",
        "\n",
        "function [f,g] = calcfg_inc(tstep,h,x,y,z,x_d,y_d,z_d,x0_p,y0_p,z0_p,...\n",
        "                            a,r,b,D,freq)\n",
        "%%%%%%%%%%%%%%%%%%%%%%%%%%%%%%%%%%%%%%%%%%%%%%%%%%%%%%%%%%%%%\n",
        "%\n",
        "%  Purpose: Calculate cost function and its gradient\n",
        "%\n",
        "%\n",
        "%  (c) 2002  Data Assimilation Research Centre\n",
        "%\n",
        "%  Written by Amos Lawless\n",
        "%\n",
        "%  List of main variables\n",
        "%    a:          sigma coefficient in equations\n",
        "%    r:          rho coefficient in equations\n",
        "%    b:          beta coefficient in equations\n",
        "%    D:          Observation weighting matrix\n",
        "%    h:          Time step for numerical scheme\n",
        "%    freq:       Frequency of observations\n",
        "%    tstep:      Number of time steps to perform\n",
        "%    [x,y,z]:    Forward trajectory\n",
        "%    [x_d,y_d,z_d]: Innovations\n",
        "%    [x0_p,y0_p,z0_p]: Initial perturbations\n",
        "%\n",
        "%  Output:\n",
        "%    [f,g]: Cost function and gradient\n",
        "%\n",
        "%%%%%%%%%%%%%%%%%%%%%%%%%%%%%%%%%%%%%%%%%%%%%%%%%%%%%%%%%%%%%%\n",
        "\n",
        "f=0.0;\n",
        "x_p=zeros(tstep,1); % Perturbations\n",
        "y_p=zeros(tstep,1); % Perturbations\n",
        "z_p=zeros(tstep,1); % Perturbations\n",
        "%\n",
        "x_p(1)=x0_p;\n",
        "y_p(1)=y0_p;\n",
        "z_p(1)=z0_p;\n",
        "%\n",
        "% Calculo da funcao custo\n",
        "[x_p,y_p,z_p]=modeuler_tl(tstep,h,0,z,y,x,z_p,y_p,x_p,a,r,b);\n",
        "%\n",
        "     for i=1:freq:tstep\n",
        "         f = f + 0.5*((x_d(i)+x_p(i))*(x_d(i)+x_p(i))*D(i) ...\n",
        "                      + (y_d(i)+y_p(i))*(y_d(i)+y_p(i))*D(i) ...\n",
        "                      + (z_d(i)+z_p(i))*(z_d(i)+z_p(i))*D(i));\n",
        "     end\n",
        "\n",
        "%       for i=1:freq:tstep\n",
        "%           f = f + 0.5*((x_p(i)-x_d(i))'*D*(x_p(i)-x_d(i)) ...\n",
        "%                      - (y_p(i)-y_d(i))'*D*(y_p(i)-x_d(i)) ...\n",
        "%                      - (z_p(i)-z_d(i))'*D*(z_p(i)-x_d(i)));\n",
        "%       end\n",
        "\n",
        "%\n",
        "\n",
        "% calculo do gradiente da funcao custo\n",
        "x_hat=zeros(tstep,1);\n",
        "y_hat=zeros(tstep,1);\n",
        "z_hat=zeros(tstep,1);\n",
        "%\n",
        "x_hat(tstep) = (x_d(tstep)+x_p(tstep))*D(tstep);\n",
        "y_hat(tstep) = (y_d(tstep)+y_p(tstep))*D(tstep);\n",
        "z_hat(tstep) = (z_d(tstep)+z_p(tstep))*D(tstep);\n",
        "%\n",
        "for i=tstep-1:-1:1\n",
        "    [x1_hat,y1_hat,z1_hat] = modeuler_adj(1,h,0,z(i),y(i),x(i),...\n",
        "               x_hat(i+1),y_hat(i+1),z_hat(i+1),a,r,b);\n",
        "\n",
        "    x_hat(i) = x1_hat(1) + (x_d(i)+x_p(i))*D(i);\n",
        "    y_hat(i) = y1_hat(1) + (y_d(i)+y_p(i))*D(i);\n",
        "    z_hat(i) = z1_hat(1) + (z_d(i)+z_p(i))*D(i);\n",
        "end\n",
        "g=[x_hat(1),y_hat(1),z_hat(1)];\n"
      ],
      "metadata": {
        "id": "z3PP3xJ1dAt7"
      },
      "execution_count": null,
      "outputs": []
    },
    {
      "cell_type": "markdown",
      "source": [
        "### function **modeuler_tl**"
      ],
      "metadata": {
        "id": "hQmjkPHndsfu"
      }
    },
    {
      "cell_type": "code",
      "source": [
        "%%octave\n",
        "\n",
        "function [xo_p,yo_p,zo_p]=modeuler_tl(tstep,h,j,z,y,x,...\n",
        "   zval_p,yval_p,xval_p,a,r,b)\n",
        "%%%%%%%%%%%%%%%%%%%%%%%%%%%%%%%%%%%%%%%%%%%%%%%%%%%%%%%%%%%%%%\n",
        "%\n",
        "%  Purpose: Tangent linear code of modeuler.m\n",
        "%\n",
        "%  (c) 2004  Data Assimilation Research Centre\n",
        "%\n",
        "%  Written  by Amos Lawless\n",
        "%\n",
        "%  List of main variables\n",
        "%    a:          sigma coefficient in equations\n",
        "%    r:          rho coefficient in equations\n",
        "%    b:          beta coefficient in equations\n",
        "%    h:          Time step for numerical scheme\n",
        "%    tstep:      Number of time steps to perform\n",
        "%    [xval,yval,zval]: Linearization state fields at all times\n",
        "%    [xval_p,yval_p,zval_p]: Initial perturbations\n",
        "%    j:          Index to pick up correct initial field\n",
        "%\n",
        "%  Output:\n",
        "%    [xo_p,yo_p,zo_p]: Evolved perturbations\n",
        "%\n",
        "%%%%%%%%%%%%%%%%%%%%%%%%%%%%%%%%%%%%%%%%%%%%%%%%%%%%%%%%%%%%%%\n",
        "%\n",
        "x_p=zeros(tstep,1);\n",
        "y_p=zeros(tstep,1);\n",
        "z_p=zeros(tstep,1);\n",
        "%\n",
        "x_p(1)=xval_p(j+1);\n",
        "y_p(1)=yval_p(j+1);\n",
        "z_p(1)=zval_p(j+1);\n",
        "%\n",
        "for i = 1:tstep\n",
        "  kx1 = h*a*(y(i)-x(i));\n",
        "  ky1 = h*(r*x(i)-y(i)-x(i)*z(i));\n",
        "  kz1 = h*(x(i)*y(i) - b*z(i));\n",
        "%\n",
        "  kx1_p = h*a*(y_p(i)-x_p(i));\n",
        "  ky1_p = h*(r*x_p(i)-y_p(i)-x_p(i)*z(i)-x(i)*z_p(i));\n",
        "  kz1_p = h*(x_p(i)*y(i)+x(i)*y_p(i)-b*z_p(i));\n",
        "\n",
        "  kx2_p = h*a*(y_p(i)+ky1_p-x_p(i)-kx1_p);\n",
        "  ky2_p = h*(r*(x_p(i)+kx1_p)-y_p(i)-ky1_p ...\n",
        "          - (x_p(i)+kx1_p)*(z(i)+kz1) - (x(i)+kx1)*(z_p(i)+kz1_p));\n",
        "  kz2_p = h*((x_p(i)+kx1_p)*(y(i)+ky1)+(x(i)+kx1)*(y_p(i)+ky1_p) ...\n",
        "          - b*(z_p(i)+kz1_p));\n",
        "%\n",
        "  x_p(i+1)=x_p(i)+0.5d0*(kx1_p+kx2_p);\n",
        "  y_p(i+1)=y_p(i)+0.5d0*(ky1_p+ky2_p);\n",
        "  z_p(i+1)=z_p(i)+0.5d0*(kz1_p+kz2_p);\n",
        "end\n",
        "\n",
        "xo_p=x_p;\n",
        "yo_p=y_p;\n",
        "zo_p=z_p;\n",
        "%"
      ],
      "metadata": {
        "id": "hmfbcxQ2di2X"
      },
      "execution_count": null,
      "outputs": []
    },
    {
      "cell_type": "markdown",
      "source": [
        "### function **modeuler_adj**\n"
      ],
      "metadata": {
        "id": "tyV0i81Beewl"
      }
    },
    {
      "cell_type": "code",
      "source": [
        "%%octave\n",
        "\n",
        "function [xval_hat,yval_hat,zval_hat]=modeuler_adj(tstep,h,j,z,y,x,...\n",
        "   xo_hat,yo_hat,zo_hat,a,r,b)\n",
        "%%%%%%%%%%%%%%%%%%%%%%%%%%%%%%%%%%%%%%%%%%%%%%%%%%%%%%%%%%%%%%\n",
        "%\n",
        "%  Purpose: Adjoint code of modeuler.m\n",
        "%\n",
        "%  (c) 2004  Data Assimilation Research Centre\n",
        "%\n",
        "%  Written  by Amos Lawless\n",
        "%\n",
        "%  List of main variables\n",
        "%    a:          sigma coefficient in equations\n",
        "%    r:          rho coefficient in equations\n",
        "%    b:          beta coefficient in equations\n",
        "%    h:          Time step for numerical scheme\n",
        "%    tstep:      Number of time steps to perform\n",
        "%    [xval,yval,zval]: Linearization state fields at all times\n",
        "%    [xo_hat,yo_hat,zo_hat]: Input adjoint variables\n",
        "%    j:          Index to pick up correct initial field\n",
        "%\n",
        "%  Output:\n",
        "%    [xval_hat,yval_hat,zval_hat]: Output adjoint variables\n",
        "%\n",
        "%%%%%%%%%%%%%%%%%%%%%%%%%%%%%%%%%%%%%%%%%%%%%%%%%%%%%%%%%%%%%%\n",
        "%\n",
        "x_hat=zeros(tstep+1,1);\n",
        "y_hat=zeros(tstep+1,1);\n",
        "z_hat=zeros(tstep+1,1);\n",
        "\n",
        "xval_hat=zeros(tstep+1,1);\n",
        "yval_hat=zeros(tstep+1,1);\n",
        "zval_hat=zeros(tstep+1,1);\n",
        "\n",
        "x_hat(tstep+1) = x_hat(tstep+1) + xo_hat;\n",
        "y_hat(tstep+1) = y_hat(tstep+1) + yo_hat;\n",
        "z_hat(tstep+1) = z_hat(tstep+1) + zo_hat;\n",
        "xo_hat = 0.0d0;\n",
        "yo_hat = 0.0d0;\n",
        "zo_hat = 0.0d0;\n",
        "\n",
        "for i=tstep:-1:1\n",
        "  kx1 = h*a*(y(i)-x(i));\n",
        "  ky1 = h*(r*x(i)-y(i)-x(i)*z(i));\n",
        "  kz1 = h*(x(i)*y(i) - b*z(i));\n",
        "%\n",
        "  kz1_hat = 0.5 * z_hat(i+1);\n",
        "  kz2_hat = 0.5 * z_hat(i+1);\n",
        "  z_hat(i) = z_hat(i) + z_hat(i+1);\n",
        "  z_hat(i+1) = 0;\n",
        "  ky1_hat = 0.5 * y_hat(i+1);\n",
        "  ky2_hat = 0.5 * y_hat(i+1);\n",
        "  y_hat(i) = y_hat(i) + y_hat(i+1);\n",
        "  y_hat(i+1) = 0;\n",
        "  kx1_hat = 0.5 * x_hat(i+1);\n",
        "  kx2_hat = 0.5 * x_hat(i+1);\n",
        "  x_hat(i) = x_hat(i) + x_hat(i+1);\n",
        "  x_hat(i+1) = 0;\n",
        "%\n",
        "  x_hat(i) = x_hat(i) + h*kz2_hat*(y(i)+ky1);\n",
        "  kx1_hat = kx1_hat + h*kz2_hat*(y(i)+ky1);\n",
        "  y_hat(i) = y_hat(i) + h*(x(i)+kx1)*kz2_hat;\n",
        "  ky1_hat = ky1_hat + h*(x(i)+kx1)*kz2_hat;\n",
        "  z_hat(i) = z_hat(i) - h*b*kz2_hat;\n",
        "  kz1_hat = kz1_hat - h*b*kz2_hat;\n",
        "  kz2_hat = 0.0d0;\n",
        "%\n",
        "  x_hat(i) = x_hat(i) + h*r*ky2_hat;\n",
        "  kx1_hat = kx1_hat + h*r*ky2_hat;\n",
        "  y_hat(i) = y_hat(i) - h* ky2_hat;\n",
        "  ky1_hat = ky1_hat - h*ky2_hat;\n",
        "  x_hat(i) = x_hat(i) - h*ky2_hat*(z(i)+kz1);\n",
        "  kx1_hat = kx1_hat - h*ky2_hat*(z(i)+kz1);\n",
        "  z_hat(i) = z_hat(i) - h*(x(i)+kx1)*ky2_hat;\n",
        "  kz1_hat = kz1_hat - h*(x(i)+kx1)*ky2_hat;\n",
        "  ky2_hat = 0.0d0;\n",
        "%\n",
        "  y_hat(i) = y_hat(i) + h*a*kx2_hat;\n",
        "  ky1_hat = ky1_hat + h*a*kx2_hat;\n",
        "  x_hat(i) = x_hat(i) - h*a*kx2_hat;\n",
        "  kx1_hat = kx1_hat - h*a*kx2_hat;\n",
        "  kx2_hat = 0.0d0;\n",
        "%\n",
        "  x_hat(i) = x_hat(i) + h*kz1_hat*y(i);\n",
        "  y_hat(i) = y_hat(i) + h*x(i)*kz1_hat;\n",
        "  z_hat(i) = z_hat(i) - h*b*kz1_hat;\n",
        "  kz1_hat = 0.0d0;\n",
        "  x_hat(i) = x_hat(i) + h*r*ky1_hat;\n",
        "  y_hat(i) = y_hat(i) - h*ky1_hat;\n",
        "  x_hat(i) = x_hat(i) - h*ky1_hat*z(i);\n",
        "  z_hat(i) = z_hat(i) - h*x(i)*ky1_hat;\n",
        "  ky1_hat = 0.0d0;\n",
        "  y_hat(i) = y_hat(i) + h*a*kx1_hat;\n",
        "  x_hat(i) = x_hat(i) - h*a*kx1_hat;\n",
        "  kx1_hat = 0.0d0;\n",
        "end\n",
        "xval_hat(j+1) = xval_hat(j+1) + x_hat(1);\n",
        "x_hat(1) = 0.0d0;\n",
        "yval_hat(j+1) = yval_hat(j+1) + y_hat(1);\n",
        "y_hat(1) = 0.0d0;\n",
        "zval_hat(j+1) = zval_hat(j+1) + z_hat(1);\n",
        "z_hat(1) = 0.0d0;\n"
      ],
      "metadata": {
        "id": "kY4AViYAeV2c"
      },
      "execution_count": null,
      "outputs": []
    },
    {
      "cell_type": "markdown",
      "source": [
        "### Input minimization info and perform minimization"
      ],
      "metadata": {
        "id": "h04VK0fsfmsw"
      }
    },
    {
      "cell_type": "code",
      "source": [
        "%%octave\n",
        "\n",
        "%---------------------------------------------------------------------\n",
        "% 5. Input minimization info and perform minimization\n",
        "%---------------------------------------------------------------------\n",
        "% Maximum number of iterations\n",
        "max_iterations=30;\n",
        "\n",
        "% Tolerance\n",
        "tolerance=1d-2;\n",
        "\n",
        "% Outer loops\n",
        "outer_loops=2;\n",
        "\n",
        "%zstr={'30','1d-2','2'};\n",
        "%min_str=inputdlg({xstr,ystr,y2str},'Minimization control',1,zstr);\n",
        "%\n",
        "k=1;\n",
        "costplot=zeros(1);\n",
        "normplot=zeros(1);\n",
        "for i_outer=1:outer_loops\n",
        "%%%% Start of outer loop %%%%\n",
        "disp(['Outer loop ' num2str(i_outer)])\n",
        "  [x,y,z]=modeuler(tstep,h,i_outer,guessz,guessy,guessx,a,r,b);\n",
        "  x0_p(1:2) = 0.0d0;\n",
        "  y0_p(1:2) = 0.0d0;\n",
        "  z0_p(1:2) = 0.0d0;\n",
        "% Calculate innovations\n",
        "  for i=1:freq:tstep\n",
        "    x_d(i) = x(i) - datx(i);\n",
        "    y_d(i) = y(i) - daty(i);\n",
        "    z_d(i) = z(i) - datz(i);\n",
        "  end\n",
        "\n",
        "j=2;\n",
        "  [f,g] = calcfg_inc(tstep,h,x,y,z,x_d,y_d,z_d,...\n",
        "                     x0_p(j),y0_p(j),z0_p(j),a,r,b,D,freq);\n",
        "  cost(j)=f;\n",
        "  lx=g(1);\n",
        "  ly=g(2);\n",
        "  lz=g(3);\n",
        "\n",
        "\n",
        "lnorm(j)=sqrt(lx(1)*lx(1)+ly(1)*ly(1)+lz(1)*lz(1));\n",
        "%     minimisation via least squares\n",
        "l_converged=0;\n",
        "if lnorm(j)<tolerance\n",
        "  l_converged=1;\n",
        "end\n",
        "\n",
        "%%% Inner minimization\n",
        "while lnorm(j)>tolerance & l_converged==0  % 70\n",
        "  s(j)=0.5d0;\n",
        "% normalise gradient vector\n",
        "  gx=lx(1)/lnorm(j);\n",
        "  gy=ly(1)/lnorm(j);\n",
        "  gz=lz(1)/lnorm(j);\n",
        "\n",
        "  x0_p(j+1) = x0_p(j)-s(j)*gx;\n",
        "  y0_p(j+1) = y0_p(j)-s(j)*gy;\n",
        "  z0_p(j+1) = z0_p(j)-s(j)*gz;\n",
        "  [f,g] = calcfg_inc(tstep,h,x,y,z,x_d,y_d,z_d,...\n",
        "                     x0_p(j+1),y0_p(j+1),z0_p(j+1),a,r,b,D,freq);\n",
        "  cost(j+1)=f;\n",
        "  lx=g(1);\n",
        "  ly=g(2);\n",
        "  lz=g(3);\n",
        "\n",
        "  lnorm(j+1)=sqrt(lx(1)*lx(1)+ly(1)*ly(1)+lz(1)*lz(1));\n",
        "\n",
        "  if (j-1>max_iterations)  % Max number of iterations reached\n",
        "    l_converged=1;\n",
        "    disp('Failed to converge in maximum number of iterations')\n",
        "    j=j-1;\n",
        "  else\n",
        "    Iteration=j-1\n",
        "    while (lnorm(j+1) >= lnorm(j) & s(j) > tolerance ...\n",
        "                       & l_converged == 0) % 75\n",
        "      s(j)=s(j)*0.5d0;\n",
        "      x0_p(j+1) = x0_p(j)-s(j)*gx;\n",
        "      y0_p(j+1) = y0_p(j)-s(j)*gy;\n",
        "      z0_p(j+1) = z0_p(j)-s(j)*gz;\n",
        "\n",
        "      [f,g] = calcfg_inc(tstep,h,x,y,z,x_d,y_d,z_d,...\n",
        "                     x0_p(j+1),y0_p(j+1),z0_p(j+1),a,r,b,D,freq);\n",
        "      cost(j+1)=f;\n",
        "      lx=g(1);\n",
        "      ly=g(2);\n",
        "      lz=g(3);\n",
        "      lnorm(j+1)=sqrt(lx(1)*lx(1)+ly(1)*ly(1)+lz(1)*lz(1));\n",
        "% Convergence test on norm of gradient\n",
        "      if (abs((lnorm(j+1)-lnorm(j)))<tolerance)\n",
        "        disp('Converged on change in gradient')\n",
        "        number_of_iterations=j-1\n",
        "        l_converged=1;\n",
        "      end\n",
        "    end\n",
        "      if (~l_converged)\n",
        "        j=j+1;\n",
        "      end\n",
        "  end\n",
        "end  % Inner minimization\n",
        "\n",
        "guessx(i_outer+2) = guessx(i_outer+1) + x0_p(j+1);\n",
        "guessy(i_outer+2) = guessy(i_outer+1) + y0_p(j+1);\n",
        "guessz(i_outer+2) = guessz(i_outer+1) + z0_p(j+1);\n",
        "\n",
        "costplot(k:k+j-1) = cost(2:j+1);\n",
        "normplot(k:k+j-1) = lnorm(2:j+1);\n",
        "k=k+j;\n",
        "\n",
        "end  % i_outer\n",
        "Norm_of_gradient=lnorm(j+1)\n"
      ],
      "metadata": {
        "id": "3KcRxVr97jok",
        "colab": {
          "base_uri": "https://localhost:8080/"
        },
        "outputId": "5e68ea45-dbec-4d89-bb18-d6f8fe801f4a"
      },
      "execution_count": null,
      "outputs": [
        {
          "output_type": "display_data",
          "data": {
            "text/plain": [
              "Outer loop 1"
            ]
          },
          "metadata": {}
        },
        {
          "output_type": "display_data",
          "data": {
            "text/plain": [
              "Iteration = 1"
            ]
          },
          "metadata": {}
        },
        {
          "output_type": "display_data",
          "data": {
            "text/plain": [
              "warning: Matlab-style short-circuit operation performed for operator &"
            ]
          },
          "metadata": {}
        },
        {
          "output_type": "display_data",
          "data": {
            "text/plain": [
              "warning: Matlab-style short-circuit operation performed for operator &"
            ]
          },
          "metadata": {}
        },
        {
          "output_type": "display_data",
          "data": {
            "text/plain": [
              "Iteration = 2"
            ]
          },
          "metadata": {}
        },
        {
          "output_type": "display_data",
          "data": {
            "text/plain": [
              "warning: Matlab-style short-circuit operation performed for operator &"
            ]
          },
          "metadata": {}
        },
        {
          "output_type": "display_data",
          "data": {
            "text/plain": [
              "warning: Matlab-style short-circuit operation performed for operator &"
            ]
          },
          "metadata": {}
        },
        {
          "output_type": "display_data",
          "data": {
            "text/plain": [
              "Iteration = 3"
            ]
          },
          "metadata": {}
        },
        {
          "output_type": "display_data",
          "data": {
            "text/plain": [
              "warning: Matlab-style short-circuit operation performed for operator &"
            ]
          },
          "metadata": {}
        },
        {
          "output_type": "display_data",
          "data": {
            "text/plain": [
              "warning: Matlab-style short-circuit operation performed for operator &"
            ]
          },
          "metadata": {}
        },
        {
          "output_type": "display_data",
          "data": {
            "text/plain": [
              "Iteration = 4"
            ]
          },
          "metadata": {}
        },
        {
          "output_type": "display_data",
          "data": {
            "text/plain": [
              "warning: Matlab-style short-circuit operation performed for operator &"
            ]
          },
          "metadata": {}
        },
        {
          "output_type": "display_data",
          "data": {
            "text/plain": [
              "warning: Matlab-style short-circuit operation performed for operator &"
            ]
          },
          "metadata": {}
        },
        {
          "output_type": "display_data",
          "data": {
            "text/plain": [
              "Iteration = 5"
            ]
          },
          "metadata": {}
        },
        {
          "output_type": "display_data",
          "data": {
            "text/plain": [
              "warning: Matlab-style short-circuit operation performed for operator &"
            ]
          },
          "metadata": {}
        },
        {
          "output_type": "display_data",
          "data": {
            "text/plain": [
              "warning: Matlab-style short-circuit operation performed for operator &"
            ]
          },
          "metadata": {}
        },
        {
          "output_type": "display_data",
          "data": {
            "text/plain": [
              "Iteration = 6"
            ]
          },
          "metadata": {}
        },
        {
          "output_type": "display_data",
          "data": {
            "text/plain": [
              "warning: Matlab-style short-circuit operation performed for operator &"
            ]
          },
          "metadata": {}
        },
        {
          "output_type": "display_data",
          "data": {
            "text/plain": [
              "Iteration = 7"
            ]
          },
          "metadata": {}
        },
        {
          "output_type": "display_data",
          "data": {
            "text/plain": [
              "warning: Matlab-style short-circuit operation performed for operator &"
            ]
          },
          "metadata": {}
        },
        {
          "output_type": "display_data",
          "data": {
            "text/plain": [
              "Iteration = 8"
            ]
          },
          "metadata": {}
        },
        {
          "output_type": "display_data",
          "data": {
            "text/plain": [
              "warning: Matlab-style short-circuit operation performed for operator &"
            ]
          },
          "metadata": {}
        },
        {
          "output_type": "display_data",
          "data": {
            "text/plain": [
              "warning: Matlab-style short-circuit operation performed for operator &"
            ]
          },
          "metadata": {}
        },
        {
          "output_type": "display_data",
          "data": {
            "text/plain": [
              "Iteration = 9"
            ]
          },
          "metadata": {}
        },
        {
          "output_type": "display_data",
          "data": {
            "text/plain": [
              "warning: Matlab-style short-circuit operation performed for operator &"
            ]
          },
          "metadata": {}
        },
        {
          "output_type": "display_data",
          "data": {
            "text/plain": [
              "Iteration = 10"
            ]
          },
          "metadata": {}
        },
        {
          "output_type": "display_data",
          "data": {
            "text/plain": [
              "warning: Matlab-style short-circuit operation performed for operator &"
            ]
          },
          "metadata": {}
        },
        {
          "output_type": "display_data",
          "data": {
            "text/plain": [
              "warning: Matlab-style short-circuit operation performed for operator &"
            ]
          },
          "metadata": {}
        },
        {
          "output_type": "display_data",
          "data": {
            "text/plain": [
              "Iteration = 11"
            ]
          },
          "metadata": {}
        },
        {
          "output_type": "display_data",
          "data": {
            "text/plain": [
              "warning: Matlab-style short-circuit operation performed for operator &"
            ]
          },
          "metadata": {}
        },
        {
          "output_type": "display_data",
          "data": {
            "text/plain": [
              "Iteration = 12"
            ]
          },
          "metadata": {}
        },
        {
          "output_type": "display_data",
          "data": {
            "text/plain": [
              "warning: Matlab-style short-circuit operation performed for operator &"
            ]
          },
          "metadata": {}
        },
        {
          "output_type": "display_data",
          "data": {
            "text/plain": [
              "warning: Matlab-style short-circuit operation performed for operator &"
            ]
          },
          "metadata": {}
        },
        {
          "output_type": "display_data",
          "data": {
            "text/plain": [
              "Iteration = 13"
            ]
          },
          "metadata": {}
        },
        {
          "output_type": "display_data",
          "data": {
            "text/plain": [
              "warning: Matlab-style short-circuit operation performed for operator &"
            ]
          },
          "metadata": {}
        },
        {
          "output_type": "display_data",
          "data": {
            "text/plain": [
              "Iteration = 14"
            ]
          },
          "metadata": {}
        },
        {
          "output_type": "display_data",
          "data": {
            "text/plain": [
              "warning: Matlab-style short-circuit operation performed for operator &"
            ]
          },
          "metadata": {}
        },
        {
          "output_type": "display_data",
          "data": {
            "text/plain": [
              "warning: Matlab-style short-circuit operation performed for operator &"
            ]
          },
          "metadata": {}
        },
        {
          "output_type": "display_data",
          "data": {
            "text/plain": [
              "Iteration = 15"
            ]
          },
          "metadata": {}
        },
        {
          "output_type": "display_data",
          "data": {
            "text/plain": [
              "warning: Matlab-style short-circuit operation performed for operator &"
            ]
          },
          "metadata": {}
        },
        {
          "output_type": "display_data",
          "data": {
            "text/plain": [
              "Iteration = 16"
            ]
          },
          "metadata": {}
        },
        {
          "output_type": "display_data",
          "data": {
            "text/plain": [
              "warning: Matlab-style short-circuit operation performed for operator &"
            ]
          },
          "metadata": {}
        },
        {
          "output_type": "display_data",
          "data": {
            "text/plain": [
              "warning: Matlab-style short-circuit operation performed for operator &"
            ]
          },
          "metadata": {}
        },
        {
          "output_type": "display_data",
          "data": {
            "text/plain": [
              "Iteration = 17"
            ]
          },
          "metadata": {}
        },
        {
          "output_type": "display_data",
          "data": {
            "text/plain": [
              "warning: Matlab-style short-circuit operation performed for operator &"
            ]
          },
          "metadata": {}
        },
        {
          "output_type": "display_data",
          "data": {
            "text/plain": [
              "Iteration = 18"
            ]
          },
          "metadata": {}
        },
        {
          "output_type": "display_data",
          "data": {
            "text/plain": [
              "warning: Matlab-style short-circuit operation performed for operator &"
            ]
          },
          "metadata": {}
        },
        {
          "output_type": "display_data",
          "data": {
            "text/plain": [
              "warning: Matlab-style short-circuit operation performed for operator &"
            ]
          },
          "metadata": {}
        },
        {
          "output_type": "display_data",
          "data": {
            "text/plain": [
              "Iteration = 19"
            ]
          },
          "metadata": {}
        },
        {
          "output_type": "display_data",
          "data": {
            "text/plain": [
              "warning: Matlab-style short-circuit operation performed for operator &"
            ]
          },
          "metadata": {}
        },
        {
          "output_type": "display_data",
          "data": {
            "text/plain": [
              "Iteration = 20"
            ]
          },
          "metadata": {}
        },
        {
          "output_type": "display_data",
          "data": {
            "text/plain": [
              "warning: Matlab-style short-circuit operation performed for operator &"
            ]
          },
          "metadata": {}
        },
        {
          "output_type": "display_data",
          "data": {
            "text/plain": [
              "warning: Matlab-style short-circuit operation performed for operator &"
            ]
          },
          "metadata": {}
        },
        {
          "output_type": "display_data",
          "data": {
            "text/plain": [
              "Iteration = 21"
            ]
          },
          "metadata": {}
        },
        {
          "output_type": "display_data",
          "data": {
            "text/plain": [
              "warning: Matlab-style short-circuit operation performed for operator &"
            ]
          },
          "metadata": {}
        },
        {
          "output_type": "display_data",
          "data": {
            "text/plain": [
              "Iteration = 22"
            ]
          },
          "metadata": {}
        },
        {
          "output_type": "display_data",
          "data": {
            "text/plain": [
              "warning: Matlab-style short-circuit operation performed for operator &"
            ]
          },
          "metadata": {}
        },
        {
          "output_type": "display_data",
          "data": {
            "text/plain": [
              "warning: Matlab-style short-circuit operation performed for operator &"
            ]
          },
          "metadata": {}
        },
        {
          "output_type": "display_data",
          "data": {
            "text/plain": [
              "Iteration = 23"
            ]
          },
          "metadata": {}
        },
        {
          "output_type": "display_data",
          "data": {
            "text/plain": [
              "warning: Matlab-style short-circuit operation performed for operator &"
            ]
          },
          "metadata": {}
        },
        {
          "output_type": "display_data",
          "data": {
            "text/plain": [
              "Iteration = 24"
            ]
          },
          "metadata": {}
        },
        {
          "output_type": "display_data",
          "data": {
            "text/plain": [
              "warning: Matlab-style short-circuit operation performed for operator &"
            ]
          },
          "metadata": {}
        },
        {
          "output_type": "display_data",
          "data": {
            "text/plain": [
              "warning: Matlab-style short-circuit operation performed for operator &"
            ]
          },
          "metadata": {}
        },
        {
          "output_type": "display_data",
          "data": {
            "text/plain": [
              "Iteration = 25"
            ]
          },
          "metadata": {}
        },
        {
          "output_type": "display_data",
          "data": {
            "text/plain": [
              "warning: Matlab-style short-circuit operation performed for operator &"
            ]
          },
          "metadata": {}
        },
        {
          "output_type": "display_data",
          "data": {
            "text/plain": [
              "Iteration = 26"
            ]
          },
          "metadata": {}
        },
        {
          "output_type": "display_data",
          "data": {
            "text/plain": [
              "warning: Matlab-style short-circuit operation performed for operator &"
            ]
          },
          "metadata": {}
        },
        {
          "output_type": "display_data",
          "data": {
            "text/plain": [
              "warning: Matlab-style short-circuit operation performed for operator &"
            ]
          },
          "metadata": {}
        },
        {
          "output_type": "display_data",
          "data": {
            "text/plain": [
              "Iteration = 27"
            ]
          },
          "metadata": {}
        },
        {
          "output_type": "display_data",
          "data": {
            "text/plain": [
              "warning: Matlab-style short-circuit operation performed for operator &"
            ]
          },
          "metadata": {}
        },
        {
          "output_type": "display_data",
          "data": {
            "text/plain": [
              "Iteration = 28"
            ]
          },
          "metadata": {}
        },
        {
          "output_type": "display_data",
          "data": {
            "text/plain": [
              "warning: Matlab-style short-circuit operation performed for operator &"
            ]
          },
          "metadata": {}
        },
        {
          "output_type": "display_data",
          "data": {
            "text/plain": [
              "warning: Matlab-style short-circuit operation performed for operator &"
            ]
          },
          "metadata": {}
        },
        {
          "output_type": "display_data",
          "data": {
            "text/plain": [
              "Iteration = 29"
            ]
          },
          "metadata": {}
        },
        {
          "output_type": "display_data",
          "data": {
            "text/plain": [
              "warning: Matlab-style short-circuit operation performed for operator &"
            ]
          },
          "metadata": {}
        },
        {
          "output_type": "display_data",
          "data": {
            "text/plain": [
              "Iteration = 30"
            ]
          },
          "metadata": {}
        },
        {
          "output_type": "display_data",
          "data": {
            "text/plain": [
              "warning: Matlab-style short-circuit operation performed for operator &"
            ]
          },
          "metadata": {}
        },
        {
          "output_type": "display_data",
          "data": {
            "text/plain": [
              "warning: Matlab-style short-circuit operation performed for operator &"
            ]
          },
          "metadata": {}
        },
        {
          "output_type": "display_data",
          "data": {
            "text/plain": [
              "Failed to converge in maximum number of iterations"
            ]
          },
          "metadata": {}
        },
        {
          "output_type": "display_data",
          "data": {
            "text/plain": [
              "Outer loop 2"
            ]
          },
          "metadata": {}
        },
        {
          "output_type": "display_data",
          "data": {
            "text/plain": [
              "Iteration = 1"
            ]
          },
          "metadata": {}
        },
        {
          "output_type": "display_data",
          "data": {
            "text/plain": [
              "warning: Matlab-style short-circuit operation performed for operator &"
            ]
          },
          "metadata": {}
        },
        {
          "output_type": "display_data",
          "data": {
            "text/plain": [
              "warning: Matlab-style short-circuit operation performed for operator &"
            ]
          },
          "metadata": {}
        },
        {
          "output_type": "display_data",
          "data": {
            "text/plain": [
              "Iteration = 2"
            ]
          },
          "metadata": {}
        },
        {
          "output_type": "display_data",
          "data": {
            "text/plain": [
              "warning: Matlab-style short-circuit operation performed for operator &"
            ]
          },
          "metadata": {}
        },
        {
          "output_type": "display_data",
          "data": {
            "text/plain": [
              "warning: Matlab-style short-circuit operation performed for operator &"
            ]
          },
          "metadata": {}
        },
        {
          "output_type": "display_data",
          "data": {
            "text/plain": [
              "Iteration = 3"
            ]
          },
          "metadata": {}
        },
        {
          "output_type": "display_data",
          "data": {
            "text/plain": [
              "warning: Matlab-style short-circuit operation performed for operator &"
            ]
          },
          "metadata": {}
        },
        {
          "output_type": "display_data",
          "data": {
            "text/plain": [
              "warning: Matlab-style short-circuit operation performed for operator &"
            ]
          },
          "metadata": {}
        },
        {
          "output_type": "display_data",
          "data": {
            "text/plain": [
              "Iteration = 4"
            ]
          },
          "metadata": {}
        },
        {
          "output_type": "display_data",
          "data": {
            "text/plain": [
              "warning: Matlab-style short-circuit operation performed for operator &"
            ]
          },
          "metadata": {}
        },
        {
          "output_type": "display_data",
          "data": {
            "text/plain": [
              "Iteration = 5"
            ]
          },
          "metadata": {}
        },
        {
          "output_type": "display_data",
          "data": {
            "text/plain": [
              "warning: Matlab-style short-circuit operation performed for operator &"
            ]
          },
          "metadata": {}
        },
        {
          "output_type": "display_data",
          "data": {
            "text/plain": [
              "warning: Matlab-style short-circuit operation performed for operator &"
            ]
          },
          "metadata": {}
        },
        {
          "output_type": "display_data",
          "data": {
            "text/plain": [
              "Iteration = 6"
            ]
          },
          "metadata": {}
        },
        {
          "output_type": "display_data",
          "data": {
            "text/plain": [
              "warning: Matlab-style short-circuit operation performed for operator &"
            ]
          },
          "metadata": {}
        },
        {
          "output_type": "display_data",
          "data": {
            "text/plain": [
              "Iteration = 7"
            ]
          },
          "metadata": {}
        },
        {
          "output_type": "display_data",
          "data": {
            "text/plain": [
              "warning: Matlab-style short-circuit operation performed for operator &"
            ]
          },
          "metadata": {}
        },
        {
          "output_type": "display_data",
          "data": {
            "text/plain": [
              "warning: Matlab-style short-circuit operation performed for operator &"
            ]
          },
          "metadata": {}
        },
        {
          "output_type": "display_data",
          "data": {
            "text/plain": [
              "Iteration = 8"
            ]
          },
          "metadata": {}
        },
        {
          "output_type": "display_data",
          "data": {
            "text/plain": [
              "warning: Matlab-style short-circuit operation performed for operator &"
            ]
          },
          "metadata": {}
        },
        {
          "output_type": "display_data",
          "data": {
            "text/plain": [
              "Iteration = 9"
            ]
          },
          "metadata": {}
        },
        {
          "output_type": "display_data",
          "data": {
            "text/plain": [
              "warning: Matlab-style short-circuit operation performed for operator &"
            ]
          },
          "metadata": {}
        },
        {
          "output_type": "display_data",
          "data": {
            "text/plain": [
              "warning: Matlab-style short-circuit operation performed for operator &"
            ]
          },
          "metadata": {}
        },
        {
          "output_type": "display_data",
          "data": {
            "text/plain": [
              "Iteration = 10"
            ]
          },
          "metadata": {}
        },
        {
          "output_type": "display_data",
          "data": {
            "text/plain": [
              "warning: Matlab-style short-circuit operation performed for operator &"
            ]
          },
          "metadata": {}
        },
        {
          "output_type": "display_data",
          "data": {
            "text/plain": [
              "Iteration = 11"
            ]
          },
          "metadata": {}
        },
        {
          "output_type": "display_data",
          "data": {
            "text/plain": [
              "warning: Matlab-style short-circuit operation performed for operator &"
            ]
          },
          "metadata": {}
        },
        {
          "output_type": "display_data",
          "data": {
            "text/plain": [
              "warning: Matlab-style short-circuit operation performed for operator &"
            ]
          },
          "metadata": {}
        },
        {
          "output_type": "display_data",
          "data": {
            "text/plain": [
              "Iteration = 12"
            ]
          },
          "metadata": {}
        },
        {
          "output_type": "display_data",
          "data": {
            "text/plain": [
              "warning: Matlab-style short-circuit operation performed for operator &"
            ]
          },
          "metadata": {}
        },
        {
          "output_type": "display_data",
          "data": {
            "text/plain": [
              "Iteration = 13"
            ]
          },
          "metadata": {}
        },
        {
          "output_type": "display_data",
          "data": {
            "text/plain": [
              "warning: Matlab-style short-circuit operation performed for operator &"
            ]
          },
          "metadata": {}
        },
        {
          "output_type": "display_data",
          "data": {
            "text/plain": [
              "warning: Matlab-style short-circuit operation performed for operator &"
            ]
          },
          "metadata": {}
        },
        {
          "output_type": "display_data",
          "data": {
            "text/plain": [
              "Iteration = 14"
            ]
          },
          "metadata": {}
        },
        {
          "output_type": "display_data",
          "data": {
            "text/plain": [
              "warning: Matlab-style short-circuit operation performed for operator &"
            ]
          },
          "metadata": {}
        },
        {
          "output_type": "display_data",
          "data": {
            "text/plain": [
              "Iteration = 15"
            ]
          },
          "metadata": {}
        },
        {
          "output_type": "display_data",
          "data": {
            "text/plain": [
              "warning: Matlab-style short-circuit operation performed for operator &"
            ]
          },
          "metadata": {}
        },
        {
          "output_type": "display_data",
          "data": {
            "text/plain": [
              "warning: Matlab-style short-circuit operation performed for operator &"
            ]
          },
          "metadata": {}
        },
        {
          "output_type": "display_data",
          "data": {
            "text/plain": [
              "Iteration = 16"
            ]
          },
          "metadata": {}
        },
        {
          "output_type": "display_data",
          "data": {
            "text/plain": [
              "warning: Matlab-style short-circuit operation performed for operator &"
            ]
          },
          "metadata": {}
        },
        {
          "output_type": "display_data",
          "data": {
            "text/plain": [
              "Iteration = 17"
            ]
          },
          "metadata": {}
        },
        {
          "output_type": "display_data",
          "data": {
            "text/plain": [
              "warning: Matlab-style short-circuit operation performed for operator &"
            ]
          },
          "metadata": {}
        },
        {
          "output_type": "display_data",
          "data": {
            "text/plain": [
              "warning: Matlab-style short-circuit operation performed for operator &"
            ]
          },
          "metadata": {}
        },
        {
          "output_type": "display_data",
          "data": {
            "text/plain": [
              "Iteration = 18"
            ]
          },
          "metadata": {}
        },
        {
          "output_type": "display_data",
          "data": {
            "text/plain": [
              "warning: Matlab-style short-circuit operation performed for operator &"
            ]
          },
          "metadata": {}
        },
        {
          "output_type": "display_data",
          "data": {
            "text/plain": [
              "Iteration = 19"
            ]
          },
          "metadata": {}
        },
        {
          "output_type": "display_data",
          "data": {
            "text/plain": [
              "warning: Matlab-style short-circuit operation performed for operator &"
            ]
          },
          "metadata": {}
        },
        {
          "output_type": "display_data",
          "data": {
            "text/plain": [
              "warning: Matlab-style short-circuit operation performed for operator &"
            ]
          },
          "metadata": {}
        },
        {
          "output_type": "display_data",
          "data": {
            "text/plain": [
              "Iteration = 20"
            ]
          },
          "metadata": {}
        },
        {
          "output_type": "display_data",
          "data": {
            "text/plain": [
              "warning: Matlab-style short-circuit operation performed for operator &"
            ]
          },
          "metadata": {}
        },
        {
          "output_type": "display_data",
          "data": {
            "text/plain": [
              "Iteration = 21"
            ]
          },
          "metadata": {}
        },
        {
          "output_type": "display_data",
          "data": {
            "text/plain": [
              "warning: Matlab-style short-circuit operation performed for operator &"
            ]
          },
          "metadata": {}
        },
        {
          "output_type": "display_data",
          "data": {
            "text/plain": [
              "warning: Matlab-style short-circuit operation performed for operator &"
            ]
          },
          "metadata": {}
        },
        {
          "output_type": "display_data",
          "data": {
            "text/plain": [
              "Iteration = 22"
            ]
          },
          "metadata": {}
        },
        {
          "output_type": "display_data",
          "data": {
            "text/plain": [
              "warning: Matlab-style short-circuit operation performed for operator &"
            ]
          },
          "metadata": {}
        },
        {
          "output_type": "display_data",
          "data": {
            "text/plain": [
              "Iteration = 23"
            ]
          },
          "metadata": {}
        },
        {
          "output_type": "display_data",
          "data": {
            "text/plain": [
              "warning: Matlab-style short-circuit operation performed for operator &"
            ]
          },
          "metadata": {}
        },
        {
          "output_type": "display_data",
          "data": {
            "text/plain": [
              "warning: Matlab-style short-circuit operation performed for operator &"
            ]
          },
          "metadata": {}
        },
        {
          "output_type": "display_data",
          "data": {
            "text/plain": [
              "Iteration = 24"
            ]
          },
          "metadata": {}
        },
        {
          "output_type": "display_data",
          "data": {
            "text/plain": [
              "warning: Matlab-style short-circuit operation performed for operator &"
            ]
          },
          "metadata": {}
        },
        {
          "output_type": "display_data",
          "data": {
            "text/plain": [
              "Iteration = 25"
            ]
          },
          "metadata": {}
        },
        {
          "output_type": "display_data",
          "data": {
            "text/plain": [
              "warning: Matlab-style short-circuit operation performed for operator &"
            ]
          },
          "metadata": {}
        },
        {
          "output_type": "display_data",
          "data": {
            "text/plain": [
              "warning: Matlab-style short-circuit operation performed for operator &"
            ]
          },
          "metadata": {}
        },
        {
          "output_type": "display_data",
          "data": {
            "text/plain": [
              "Iteration = 26"
            ]
          },
          "metadata": {}
        },
        {
          "output_type": "display_data",
          "data": {
            "text/plain": [
              "warning: Matlab-style short-circuit operation performed for operator &"
            ]
          },
          "metadata": {}
        },
        {
          "output_type": "display_data",
          "data": {
            "text/plain": [
              "Iteration = 27"
            ]
          },
          "metadata": {}
        },
        {
          "output_type": "display_data",
          "data": {
            "text/plain": [
              "warning: Matlab-style short-circuit operation performed for operator &"
            ]
          },
          "metadata": {}
        },
        {
          "output_type": "display_data",
          "data": {
            "text/plain": [
              "warning: Matlab-style short-circuit operation performed for operator &"
            ]
          },
          "metadata": {}
        },
        {
          "output_type": "display_data",
          "data": {
            "text/plain": [
              "Iteration = 28"
            ]
          },
          "metadata": {}
        },
        {
          "output_type": "display_data",
          "data": {
            "text/plain": [
              "warning: Matlab-style short-circuit operation performed for operator &"
            ]
          },
          "metadata": {}
        },
        {
          "output_type": "display_data",
          "data": {
            "text/plain": [
              "Iteration = 29"
            ]
          },
          "metadata": {}
        },
        {
          "output_type": "display_data",
          "data": {
            "text/plain": [
              "warning: Matlab-style short-circuit operation performed for operator &"
            ]
          },
          "metadata": {}
        },
        {
          "output_type": "display_data",
          "data": {
            "text/plain": [
              "warning: Matlab-style short-circuit operation performed for operator &"
            ]
          },
          "metadata": {}
        },
        {
          "output_type": "display_data",
          "data": {
            "text/plain": [
              "Iteration = 30"
            ]
          },
          "metadata": {}
        },
        {
          "output_type": "display_data",
          "data": {
            "text/plain": [
              "warning: Matlab-style short-circuit operation performed for operator &"
            ]
          },
          "metadata": {}
        },
        {
          "output_type": "display_data",
          "data": {
            "text/plain": [
              "Failed to converge in maximum number of iterations"
            ]
          },
          "metadata": {}
        },
        {
          "output_type": "display_data",
          "data": {
            "text/plain": [
              "Norm_of_gradient = 93.12367772024763"
            ]
          },
          "metadata": {}
        }
      ]
    },
    {
      "cell_type": "markdown",
      "source": [
        "## **6. Run forecast from final analysis and plot**\n"
      ],
      "metadata": {
        "id": "zmXG-9PBo8bZ"
      }
    },
    {
      "cell_type": "code",
      "source": [
        "%%octave\n",
        "\n",
        "%---------------------------------------------------------------------\n",
        "% 6. Run forecast from final analysis and plot\n",
        "%---------------------------------------------------------------------\n",
        "jtemp=0;\n",
        "guessx(1)=x(1);\n",
        "guessy(1)=y(1);\n",
        "guessz(1)=z(1);\n",
        "[x,y,z]=modeuler(fcstep,h,jtemp,guessz,guessy,guessx,a,r,b);\n",
        "\n",
        "%h5=figure(5)\n",
        "plot(xvals,xx)\n",
        "hold on\n",
        "plot(v,x_ob(vec),'.m')\n",
        "plot(xvals,xf,'--k')\n",
        "plot(xvals,x,'--r')\n",
        "legend('modelo','observacoes','background','analise')\n",
        "\n",
        "% Plot vertical line at start of forecast\n",
        "yminmax=get(gca,'YLim');\n",
        "yspace=(yminmax(2)-yminmax(1))*0.01;\n",
        "yvals=yminmax(1):yspace:yminmax(2);\n",
        "%line(tstep-1,yvals,'LineStyle',':','Color','k')\n",
        "hold off\n",
        "%\n",
        "\n"
      ],
      "metadata": {
        "id": "iST1n1rvo4FN",
        "colab": {
          "base_uri": "https://localhost:8080/"
        },
        "outputId": "3f9b9261-5f92-44b6-ba92-40f33fc449ae"
      },
      "execution_count": null,
      "outputs": [
        {
          "output_type": "display_data",
          "data": {
            "text/plain": [
              "ans = -11.44010452765967"
            ]
          },
          "metadata": {}
        },
        {
          "output_type": "display_data",
          "data": {
            "image/png": "[encoded data removed]",
            "text/plain": [
              "<IPython.core.display.Image object>"
            ]
          },
          "metadata": {}
        }
      ]
    },
    {
      "cell_type": "code",
      "source": [
        "%%octave\n",
        "plot(xvals,zz)\n",
        "hold on\n",
        "plot(v,z_ob(vec),'.m')\n",
        "plot(xvals,zf,'--k')\n",
        "plot(xvals,z,'--r')\n",
        "legend('modelo','observacoes','background','analise')\n",
        "hold on\n",
        "% Plot vertical line at start of forecast\n",
        "yminmax=get(gca,'YLim');\n",
        "yspace=(yminmax(2)-yminmax(1))*0.01;\n",
        "yvals=yminmax(1):yspace:yminmax(2);\n",
        "%line(tstep-1,yvals,'LineStyle',':','Color','k')\n",
        "hold off"
      ],
      "metadata": {
        "id": "6JPcrJwVp5Go",
        "colab": {
          "base_uri": "https://localhost:8080/"
        },
        "outputId": "1061046c-7d59-43bd-9f37-dae2ff63501e"
      },
      "execution_count": null,
      "outputs": [
        {
          "output_type": "display_data",
          "data": {
            "text/plain": [
              "ans = -14.27623467227619"
            ]
          },
          "metadata": {}
        },
        {
          "output_type": "display_data",
          "data": {
            "image/png": "[encoded data removed]",
            "text/plain": [
              "<IPython.core.display.Image object>"
            ]
          },
          "metadata": {}
        }
      ]
    },
    {
      "cell_type": "markdown",
      "source": [
        "## **7. Calculate and plot error**"
      ],
      "metadata": {
        "id": "b7xuHissuqpf"
      }
    },
    {
      "cell_type": "code",
      "source": [
        "%%octave\n",
        "\n",
        "%---------------------------------------------------------------------\n",
        "%  7. Calculate and plot error\n",
        "%---------------------------------------------------------------------\n",
        "x_error=xx-x;\n",
        "\n",
        "plot(xvals,x_error,'k-');\n",
        "xlabel('passo de tempo');ylabel('Error')\n",
        "title(' (Verdade-Analise) em x')\n",
        "\n",
        "% Plot vertical line at start of forecast\n",
        "yminmax=get(gca,'YLim');\n",
        "yspace=(yminmax(2)-yminmax(1))*0.01;\n",
        "yvals=yminmax(1):yspace:yminmax(2);\n",
        "%line(tstep-1,yvals,'LineStyle',':','Color','k')\n",
        "%\n",
        "\n"
      ],
      "metadata": {
        "id": "5fyWtJNWun2j",
        "colab": {
          "base_uri": "https://localhost:8080/"
        },
        "outputId": "987b503d-8cfa-4381-f79e-19dfb93f1ca6"
      },
      "execution_count": null,
      "outputs": [
        {
          "output_type": "display_data",
          "data": {
            "image/png": "[encoded data removed]",
            "text/plain": [
              "<IPython.core.display.Image object>"
            ]
          },
          "metadata": {}
        }
      ]
    },
    {
      "cell_type": "code",
      "source": [
        "%%octave\n",
        "z_error=zz-z;\n",
        "\n",
        "plot(xvals,z_error,'k-')\n",
        "xlabel('passo de tempo');ylabel('erro')\n",
        "title(' (Verdade-Analise) em z')\n",
        "% Plot vertical line at start of forecast\n",
        "yminmax=get(gca,'YLim');\n",
        "yspace=(yminmax(2)-yminmax(1))*0.01;\n",
        "yvals=yminmax(1):yspace:yminmax(2);\n",
        "%line(tstep-1,yvals,'LineStyle',':','Color','k')"
      ],
      "metadata": {
        "id": "Va_wDBeUvD5s",
        "colab": {
          "base_uri": "https://localhost:8080/"
        },
        "outputId": "e79a1783-6934-497b-bfdb-14a872631f46"
      },
      "execution_count": null,
      "outputs": [
        {
          "output_type": "display_data",
          "data": {
            "image/png": "[encoded data removed]",
            "text/plain": [
              "<IPython.core.display.Image object>"
            ]
          },
          "metadata": {}
        }
      ]
    },
    {
      "cell_type": "markdown",
      "source": [
        "## **8. Plot convergence**"
      ],
      "metadata": {
        "id": "n77ozPksyDII"
      }
    },
    {
      "cell_type": "code",
      "source": [
        "%%octave\n",
        "\n",
        "%-----------------------------------------------------------------------\n",
        "%  8. Plot convergence\n",
        "%---------------------------------------------------------------------\n",
        "xmax=max(size(normplot));\n",
        "xvals=0:xmax-1;\n",
        "\n",
        "semilogy(xvals,costplot)\n",
        "title('Convergence of cost function')\n",
        "xlabel('Iteration')\n",
        "ylabel('Cost function')\n",
        "\n"
      ],
      "metadata": {
        "id": "zBaPGNktwTk-",
        "colab": {
          "base_uri": "https://localhost:8080/"
        },
        "outputId": "56ff43eb-5d7a-44d1-fb59-3f81c7d45dc9"
      },
      "execution_count": null,
      "outputs": [
        {
          "output_type": "display_data",
          "data": {
            "image/png": "[encoded data removed]",
            "text/plain": [
              "<IPython.core.display.Image object>"
            ]
          },
          "metadata": {}
        }
      ]
    },
    {
      "cell_type": "code",
      "source": [
        "%%octave\n",
        "\n",
        "semilogy(xvals,normplot)\n",
        "title('Convergence of gradient')\n",
        "xlabel('Iteration')\n",
        "ylabel('Norm of gradient')"
      ],
      "metadata": {
        "id": "FEV1lZEAxjEv",
        "colab": {
          "base_uri": "https://localhost:8080/"
        },
        "outputId": "6038ab46-42fb-45f1-b87f-36a47fa78e31"
      },
      "execution_count": null,
      "outputs": [
        {
          "output_type": "display_data",
          "data": {
            "image/png": "[encoded data removed]",
            "text/plain": [
              "<IPython.core.display.Image object>"
            ]
          },
          "metadata": {}
        }
      ]
    },
    {
      "cell_type": "markdown",
      "source": [
        "### **9. Write out options chosen**"
      ],
      "metadata": {
        "id": "txQqnLrk3gOx"
      }
    },
    {
      "cell_type": "code",
      "source": [
        "%%octave\n",
        "\n",
        "%-----------------------------------------------------------------------\n",
        "% 9. Write out options chosen\n",
        "%---------------------------------------------------------------------\n",
        "text1={'List of options chosen'};\n",
        "text2={['True (x,y,z) at t=0:   (' num2str(truex) ',' num2str(truey) ',' ...\n",
        " num2str(truez)  ')']};\n",
        "text3={['First guess (x,y,z) at t=0:   (' num2str(guessx(1)) ',' num2str(guessy(1)) ',' ...\n",
        " num2str(guessz(1))  ')']};\n",
        "text4={['Length of assimilation window: ' num2str(ta)]};\n",
        "text5={['Length of subsequent forecast: ' num2str(tf)]};\n",
        "text6={['Time step: ' num2str(h)]};\n",
        "text7={['Frequency of observations = ' num2str(freq)]};\n",
        "%text9={['Maximum iterations: ' min_str{1}]};\n",
        "%text10={['Tolerance: ' min_str{2}]};\n",
        "if l_noise==0\n",
        "  text11={['No noise on observations']};\n",
        "else\n",
        "  text11={['Observations have random noise with variance ' num2str(sd)]};\n",
        "end\n",
        "\n",
        "str1=[text2;text3;text4;text5;text6;text7;text11];\n",
        "disp(str1)"
      ],
      "metadata": {
        "id": "zQ8U_kh2yY5e",
        "colab": {
          "base_uri": "https://localhost:8080/"
        },
        "outputId": "5a58b4f1-dbc6-4c6b-bda8-c7e3f5c0d552"
      },
      "execution_count": null,
      "outputs": [
        {
          "output_type": "display_data",
          "data": {
            "text/plain": [
              "{"
            ]
          },
          "metadata": {}
        },
        {
          "output_type": "display_data",
          "data": {
            "text/plain": [
              "  [1,1] = True (x,y,z) at t=0:   (1,1,1)"
            ]
          },
          "metadata": {}
        },
        {
          "output_type": "display_data",
          "data": {
            "text/plain": [
              "  [2,1] = First guess (x,y,z) at t=0:   (0.98829,1.0027,1.0217)"
            ]
          },
          "metadata": {}
        },
        {
          "output_type": "display_data",
          "data": {
            "text/plain": [
              "  [3,1] = Length of assimilation window: 3"
            ]
          },
          "metadata": {}
        },
        {
          "output_type": "display_data",
          "data": {
            "text/plain": [
              "  [4,1] = Length of subsequent forecast: 3"
            ]
          },
          "metadata": {}
        },
        {
          "output_type": "display_data",
          "data": {
            "text/plain": [
              "  [5,1] = Time step: 0.05"
            ]
          },
          "metadata": {}
        },
        {
          "output_type": "display_data",
          "data": {
            "text/plain": [
              "  [6,1] = Frequency of observations = 2"
            ]
          },
          "metadata": {}
        },
        {
          "output_type": "display_data",
          "data": {
            "text/plain": [
              "  [7,1] = Observations have random noise with variance 0.1"
            ]
          },
          "metadata": {}
        },
        {
          "output_type": "display_data",
          "data": {
            "text/plain": [
              "}"
            ]
          },
          "metadata": {}
        }
      ]
    }
  ]
}